{
 "cells": [
  {
   "cell_type": "code",
   "execution_count": null,
   "metadata": {},
   "outputs": [],
   "source": [
    "import pandas as pd\n",
    "from rdkit import Chem\n",
    "import pickle\n",
    "\n",
    "def sanitize_smiles(smiles_list):\n",
    "    sanitized = []\n",
    "    for smile in smiles_list:\n",
    "        molecule = Chem.MolFromSmiles(smile)\n",
    "        if molecule is not None:\n",
    "            Chem.SanitizeMol(molecule) \n",
    "            smiles_no_stereo = Chem.MolToSmiles(molecule, isomericSmiles=False, canonical=True)\n",
    "            mol_no_stereo = Chem.MolFromSmiles(smiles_no_stereo)\n",
    "            sanitized.append(mol_no_stereo)\n",
    "    return sanitized\n",
    "\n",
    "def sanitize_noncanon(smiles_list):\n",
    "    sanitized_noncanon = []\n",
    "    for smile in smiles_list:\n",
    "        molecule = Chem.MolFromSmiles(smile)\n",
    "        if molecule is not None:\n",
    "            Chem.SanitizeMol(molecule)\n",
    "            smiles_no_stero_noncanon = Chem.MolToSmiles(molecule, isomericSmiles=False, canonical=False)\n",
    "            mol_no_stereo_noncanon = Chem.MolFromSmiles(smiles_no_stero_noncanon)\n",
    "            sanitized_noncanon.append(mol_no_stereo_noncanon)\n",
    "    return sanitized_noncanon\n",
    "\n",
    "chunk_size = 10**6  \n",
    "input_file = '../msse-Chem277B-Project/dataset/smiles.csv'\n",
    "\n",
    "all_sanitized = []\n",
    "sanitized_noncanon = []\n",
    "\n",
    "with open('sanitized.pkl', 'wb') as sanitized_file, open('sanitized_noncanon.pkl', 'wb') as sanitized_noncanon_file:  # Create/overwrite the output file\n",
    "    for chunk in pd.read_csv(input_file, chunksize=chunk_size):\n",
    "        smiles_list = chunk[\"smiles\"].tolist()\n",
    "        sanitized_chunk = sanitize_smiles(smiles_list) \n",
    "        sanitized_noncanon_chunk = sanitize_noncanon(smiles_list)\n",
    "        all_sanitized.extend(sanitized_chunk)  \n",
    "        sanitized_noncanon.extend(sanitized_noncanon_chunk)\n",
    "        pickle.dump(sanitized_chunk, sanitized_file)  \n",
    "        pickle.dump(sanitized_noncanon_chunk, sanitized_noncanon_file)\n",
    "\n",
    "\n",
    "all_sanitized = list(set(all_sanitized)) \n",
    "sanitized_noncanon = list(set(sanitized_noncanon))\n",
    "smiles_list = [Chem.MolToSmiles(molecule, isomericSmiles=False, canonical=True) for molecule in all_sanitized]\n",
    "smiles_noncanon = [Chem.MolToSmiles(molecule, isomericSmiles=False, canonical=False) for molecule in sanitized_noncanon]\n",
    "\n",
    "df = pd.DataFrame(smiles_list, columns=['SMILES'])\n",
    "df['SMILES_NONCANON'] = smiles_noncanon\n",
    "df.to_csv('sanitized_noncanon_smiles.csv', index=False)\n"
   ]
  }
 ],
 "metadata": {
  "kernelspec": {
   "display_name": "Python 3",
   "language": "python",
   "name": "python3"
  },
  "language_info": {
   "codemirror_mode": {
    "name": "ipython",
    "version": 3
   },
   "file_extension": ".py",
   "mimetype": "text/x-python",
   "name": "python",
   "nbconvert_exporter": "python",
   "pygments_lexer": "ipython3",
   "version": "3.10.14"
  }
 },
 "nbformat": 4,
 "nbformat_minor": 2
}
