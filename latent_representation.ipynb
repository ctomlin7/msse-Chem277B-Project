{
 "cells": [
  {
   "cell_type": "code",
   "execution_count": 109,
   "metadata": {},
   "outputs": [],
   "source": [
    "import torch\n",
    "import torch.nn as nn\n",
    "import torch.optim as optim\n",
    "import torch.utils.data as data\n",
    "import math\n",
    "import copy\n",
    "import pandas as pd\n",
    "from rdkit import Chem"
   ]
  },
  {
   "cell_type": "markdown",
   "metadata": {},
   "source": [
    "## Transformer Encoder"
   ]
  },
  {
   "cell_type": "code",
   "execution_count": 4,
   "metadata": {},
   "outputs": [],
   "source": [
    "class MultiHeadAttention(nn.Module):\n",
    "    def __init__(self, d_model, num_heads):\n",
    "        super(MultiHeadAttention, self).__init__()\n",
    "        # Ensure that the model dimension (d_model) is divisible by the number of heads\n",
    "        assert d_model % num_heads == 0, \"d_model must be divisible by num_heads\"\n",
    "        \n",
    "        # Initialize dimensions\n",
    "        self.d_model = d_model # Model's dimension\n",
    "        self.num_heads = num_heads # Number of attention heads\n",
    "        self.d_k = d_model // num_heads # Dimension of each head's key, query, and value\n",
    "        \n",
    "        # Linear layers for transforming inputs\n",
    "        self.W_q = nn.Linear(d_model, d_model) # Query transformation\n",
    "        self.W_k = nn.Linear(d_model, d_model) # Key transformation\n",
    "        self.W_v = nn.Linear(d_model, d_model) # Value transformation\n",
    "        self.W_o = nn.Linear(d_model, d_model) # Output transformation\n",
    "        \n",
    "    def scaled_dot_product_attention(self, Q, K, V, mask=None):\n",
    "        # Calculate attention scores\n",
    "        attn_scores = torch.matmul(Q, K.transpose(-2, -1)) / math.sqrt(self.d_k)\n",
    "        \n",
    "        # Apply mask if provided (useful for preventing attention to certain parts like padding)\n",
    "        if mask is not None:\n",
    "            attn_scores = attn_scores.masked_fill(mask == 0, -1e9)\n",
    "        \n",
    "        # Softmax is applied to obtain attention probabilities\n",
    "        attn_probs = torch.softmax(attn_scores, dim=-1)\n",
    "        \n",
    "        # Multiply by values to obtain the final output\n",
    "        output = torch.matmul(attn_probs, V)\n",
    "        return output\n",
    "        \n",
    "    def split_heads(self, x):\n",
    "        # Reshape the input to have num_heads for multi-head attention\n",
    "        batch_size, seq_length, d_model = x.size()\n",
    "        return x.view(batch_size, seq_length, self.num_heads, self.d_k).transpose(1, 2)\n",
    "        \n",
    "    def combine_heads(self, x):\n",
    "        # Combine the multiple heads back to original shape\n",
    "        batch_size, _, seq_length, d_k = x.size()\n",
    "        return x.transpose(1, 2).contiguous().view(batch_size, seq_length, self.d_model)\n",
    "        \n",
    "    def forward(self, Q, K, V, mask=None):\n",
    "        # Apply linear transformations and split heads\n",
    "        Q = self.split_heads(self.W_q(Q))\n",
    "        K = self.split_heads(self.W_k(K))\n",
    "        V = self.split_heads(self.W_v(V))\n",
    "        \n",
    "        # Perform scaled dot-product attention\n",
    "        attn_output = self.scaled_dot_product_attention(Q, K, V, mask)\n",
    "        \n",
    "        # Combine heads and apply output transformation\n",
    "        output = self.W_o(self.combine_heads(attn_output))\n",
    "        return output"
   ]
  },
  {
   "cell_type": "code",
   "execution_count": 5,
   "metadata": {},
   "outputs": [],
   "source": [
    "class PositionWiseFeedForward(nn.Module):\n",
    "    def __init__(self, d_model, d_ff):\n",
    "        super(PositionWiseFeedForward, self).__init__()\n",
    "        self.fc1 = nn.Linear(d_model, d_ff)\n",
    "        self.fc2 = nn.Linear(d_ff, d_model)\n",
    "        self.relu = nn.ReLU()\n",
    "\n",
    "    def forward(self, x):\n",
    "        return self.fc2(self.relu(self.fc1(x)))"
   ]
  },
  {
   "cell_type": "code",
   "execution_count": 6,
   "metadata": {},
   "outputs": [],
   "source": [
    "class PositionalEncoding(nn.Module):\n",
    "    def __init__(self, d_model, max_seq_length):\n",
    "        super(PositionalEncoding, self).__init__()\n",
    "        \n",
    "        pe = torch.zeros(max_seq_length, d_model)\n",
    "        position = torch.arange(0, max_seq_length, dtype=torch.float).unsqueeze(1)\n",
    "        div_term = torch.exp(torch.arange(0, d_model, 2).float() * -(math.log(10000.0) / d_model))\n",
    "        \n",
    "        pe[:, 0::2] = torch.sin(position * div_term)\n",
    "        pe[:, 1::2] = torch.cos(position * div_term)\n",
    "        \n",
    "        self.register_buffer('pe', pe.unsqueeze(0))\n",
    "        \n",
    "    def forward(self, x):\n",
    "        return x + self.pe[:, :x.size(1)]"
   ]
  },
  {
   "cell_type": "code",
   "execution_count": 34,
   "metadata": {},
   "outputs": [],
   "source": [
    "class EncoderLayer(nn.Module):\n",
    "    def __init__(self, d_model, num_heads, d_ff, dropout):\n",
    "        super(EncoderLayer, self).__init__()\n",
    "        self.self_attn = MultiHeadAttention(d_model, num_heads)\n",
    "        self.feed_forward = PositionWiseFeedForward(d_model, d_ff)\n",
    "        self.norm1 = nn.LayerNorm(d_model)\n",
    "        self.norm2 = nn.LayerNorm(d_model)\n",
    "        self.dropout = nn.Dropout(dropout)\n",
    "        \n",
    "    def forward(self, x, mask):\n",
    "        attn_output = self.self_attn(x, x, x, mask)\n",
    "        x = self.norm1(x + self.dropout(attn_output))\n",
    "        ff_output = self.feed_forward(x)\n",
    "        x = self.norm2(x + self.dropout(ff_output))\n",
    "        return x"
   ]
  },
  {
   "cell_type": "code",
   "execution_count": 22,
   "metadata": {},
   "outputs": [],
   "source": [
    "class DecoderLayer(nn.Module):\n",
    "    def __init__(self, d_model, num_heads, d_ff, dropout):\n",
    "        super(DecoderLayer, self).__init__()\n",
    "        self.self_attn = MultiHeadAttention(d_model, num_heads)\n",
    "        self.cross_attn = MultiHeadAttention(d_model, num_heads)\n",
    "        self.feed_forward = PositionWiseFeedForward(d_model, d_ff)\n",
    "        self.norm1 = nn.LayerNorm(d_model)\n",
    "        self.norm2 = nn.LayerNorm(d_model)\n",
    "        self.norm3 = nn.LayerNorm(d_model)\n",
    "        self.dropout = nn.Dropout(dropout)\n",
    "        \n",
    "    def forward(self, x, enc_output, src_mask, tgt_mask):\n",
    "        attn_output = self.self_attn(x, x, x, tgt_mask)\n",
    "        x = self.norm1(x + self.dropout(attn_output))\n",
    "        attn_output = self.cross_attn(x, enc_output, enc_output, src_mask)\n",
    "        x = self.norm2(x + self.dropout(attn_output))\n",
    "        ff_output = self.feed_forward(x)\n",
    "        x = self.norm3(x + self.dropout(ff_output))\n",
    "        return x"
   ]
  },
  {
   "cell_type": "code",
   "execution_count": 47,
   "metadata": {},
   "outputs": [],
   "source": [
    "class Transformer(nn.Module):\n",
    "    def __init__(self, src_vocab_size, tgt_vocab_size, d_model, num_heads, num_layers, d_ff, max_seq_length, dropout):\n",
    "        super(Transformer, self).__init__()\n",
    "        self.encoder_embedding = nn.Embedding(src_vocab_size, d_model)\n",
    "        self.decoder_embedding = nn.Embedding(tgt_vocab_size, d_model)\n",
    "        self.positional_encoding = PositionalEncoding(d_model, max_seq_length)\n",
    "\n",
    "        self.encoder_layers = nn.ModuleList([EncoderLayer(d_model, num_heads, d_ff, dropout) for _ in range(num_layers)])\n",
    "        self.decoder_layers = nn.ModuleList([DecoderLayer(d_model, num_heads, d_ff, dropout) for _ in range(num_layers)])\n",
    "        self.encoder_output = []\n",
    "        self.decoder_output = []\n",
    "        self.output = []\n",
    "\n",
    "        self.fc = nn.Linear(d_model, tgt_vocab_size)\n",
    "        self.dropout = nn.Dropout(dropout)\n",
    "\n",
    "    def generate_mask(self, src, tgt):\n",
    "        src_mask = (src != 0).unsqueeze(1).unsqueeze(2)\n",
    "        tgt_mask = (tgt != 0).unsqueeze(1).unsqueeze(3)\n",
    "        seq_length = tgt.size(1)\n",
    "        nopeak_mask = (1 - torch.triu(torch.ones(1, seq_length, seq_length), diagonal=1)).bool()\n",
    "        tgt_mask = tgt_mask & nopeak_mask\n",
    "        return src_mask, tgt_mask\n",
    "\n",
    "    def forward(self, src, tgt):\n",
    "        src_mask, tgt_mask = self.generate_mask(src, tgt)\n",
    "        src_embedded = self.dropout(self.positional_encoding(self.encoder_embedding(src)))\n",
    "        tgt_embedded = self.dropout(self.positional_encoding(self.decoder_embedding(tgt)))\n",
    "\n",
    "        enc_output = src_embedded\n",
    "        for enc_layer in self.encoder_layers:\n",
    "            enc_output = enc_layer(enc_output, src_mask)\n",
    "            self.encoder_output.append(enc_output)\n",
    "\n",
    "        dec_output = tgt_embedded\n",
    "        for dec_layer in self.decoder_layers:\n",
    "            dec_output = dec_layer(dec_output, enc_output, src_mask, tgt_mask)\n",
    "            self.decoder_output.append(dec_output)\n",
    "\n",
    "        output = self.fc(dec_output)\n",
    "        self.output.append(output)\n",
    "        return output"
   ]
  },
  {
   "cell_type": "code",
   "execution_count": 48,
   "metadata": {},
   "outputs": [],
   "source": [
    "src_vocab_size = 5000\n",
    "tgt_vocab_size = 5000\n",
    "d_model = 512\n",
    "num_heads = 8\n",
    "num_layers = 6\n",
    "d_ff = 2048\n",
    "max_seq_length = 100\n",
    "dropout = 0.1\n",
    "\n",
    "transformer = Transformer(src_vocab_size, tgt_vocab_size, d_model, num_heads, num_layers, d_ff, max_seq_length, dropout)\n",
    "\n",
    "# Generate random sample data\n",
    "src_data = torch.randint(1, src_vocab_size, (64, max_seq_length))  # (batch_size, seq_length)\n",
    "tgt_data = torch.randint(1, tgt_vocab_size, (64, max_seq_length))  # (batch_size, seq_length)"
   ]
  },
  {
   "cell_type": "code",
   "execution_count": 49,
   "metadata": {},
   "outputs": [
    {
     "name": "stdout",
     "output_type": "stream",
     "text": [
      "Epoch: 1, Loss: 8.705947875976562\n",
      "Epoch: 2, Loss: 8.562641143798828\n",
      "Epoch: 3, Loss: 8.485763549804688\n",
      "Epoch: 4, Loss: 8.429726600646973\n",
      "Epoch: 5, Loss: 8.373811721801758\n",
      "Epoch: 6, Loss: 8.311661720275879\n",
      "Epoch: 7, Loss: 8.232335090637207\n",
      "Epoch: 8, Loss: 8.14843463897705\n",
      "Epoch: 9, Loss: 8.068490982055664\n",
      "Epoch: 10, Loss: 7.9902448654174805\n"
     ]
    }
   ],
   "source": [
    "criterion = nn.CrossEntropyLoss(ignore_index=0)\n",
    "optimizer = optim.Adam(transformer.parameters(), lr=0.0001, betas=(0.9, 0.98), eps=1e-9)\n",
    "\n",
    "transformer.train()\n",
    "\n",
    "for epoch in range(10):\n",
    "    optimizer.zero_grad()\n",
    "    output = transformer(src_data, tgt_data[:, :-1])\n",
    "    loss = criterion(output.contiguous().view(-1, tgt_vocab_size), tgt_data[:, 1:].contiguous().view(-1))\n",
    "    loss.backward()\n",
    "    optimizer.step()\n",
    "    print(f\"Epoch: {epoch+1}, Loss: {loss.item()}\")"
   ]
  },
  {
   "cell_type": "code",
   "execution_count": 77,
   "metadata": {},
   "outputs": [],
   "source": [
    "class Transformer_encoder(nn.Module):\n",
    "    def __init__(self, src_vocab_size, tgt_vocab_size, d_model, num_heads, num_layers, d_ff, max_seq_length, dropout):\n",
    "        super(Transformer, self).__init__()\n",
    "        self.encoder_embedding = nn.Embedding(src_vocab_size, d_model)\n",
    "        self.decoder_embedding = nn.Embedding(tgt_vocab_size, d_model)\n",
    "        self.positional_encoding = PositionalEncoding(d_model, max_seq_length)\n",
    "\n",
    "        self.encoder_layers = nn.ModuleList([EncoderLayer(d_model, num_heads, d_ff, dropout) for _ in range(num_layers)])\n",
    "        self.decoder_layers = nn.ModuleList([DecoderLayer(d_model, num_heads, d_ff, dropout) for _ in range(num_layers)])\n",
    "        self.encoder_output = []\n",
    "        self.decoder_output = []\n",
    "        self.output = []\n",
    "\n",
    "        self.fc = nn.Linear(d_model, tgt_vocab_size)\n",
    "        self.dropout = nn.Dropout(dropout)\n",
    "\n",
    "    def generate_mask(self, src, tgt):\n",
    "        src_mask = (src != 0).unsqueeze(1).unsqueeze(2)\n",
    "        tgt_mask = (tgt != 0).unsqueeze(1).unsqueeze(3)\n",
    "        seq_length = tgt.size(1)\n",
    "        nopeak_mask = (1 - torch.triu(torch.ones(1, seq_length, seq_length), diagonal=1)).bool()\n",
    "        tgt_mask = tgt_mask & nopeak_mask\n",
    "        return src_mask, tgt_mask\n",
    "\n",
    "    def forward(self, src, tgt):\n",
    "        src_mask, tgt_mask = self.generate_mask(src, tgt)\n",
    "        src_embedded = self.dropout(self.positional_encoding(self.encoder_embedding(src)))\n",
    "        tgt_embedded = self.dropout(self.positional_encoding(self.decoder_embedding(tgt)))\n",
    "\n",
    "        enc_output = src_embedded\n",
    "        for enc_layer in self.encoder_layers:\n",
    "            enc_output = enc_layer(enc_output, src_mask)\n",
    "            self.encoder_output.append(enc_output)"
   ]
  },
  {
   "cell_type": "markdown",
   "metadata": {},
   "source": [
    "## SMILES Autoenocoder"
   ]
  },
  {
   "cell_type": "code",
   "execution_count": 107,
   "metadata": {},
   "outputs": [],
   "source": [
    "class bidirectional_GRU_AE(nn.Module):\n",
    "    def __init__(self, input_size, hidden_size, num_layers=3, embedding_dim=10):\n",
    "        super(bidirectional_GRU_AE, self).__init__()\n",
    "\n",
    "        # TEST WHETHER CHAR_TO_INT DICT IS NECESSARY WITH THIS\n",
    "        # embedding layer to convert integer indices to dense float vectors\n",
    "        self.embedding = nn.Embedding(input_size, embedding_dim)\n",
    "        self.encoder_ouput = []\n",
    "\n",
    "        self.encoder = nn.GRU(\n",
    "            input_size=embedding_dim, \n",
    "            hidden_size=hidden_size, \n",
    "            num_layers=num_layers, \n",
    "            bidirectional=True,\n",
    "            # input and output tensors are (batch_size, seq_len) format\n",
    "            batch_first = True      \n",
    "        )\n",
    "\n",
    "        self.decoder = nn.GRU(\n",
    "            # for bidirectional GRU, input size is doubled (each hidden layer as forward and backward state)\n",
    "            input_size=hidden_size * 2,     \n",
    "            hidden_size=hidden_size, \n",
    "            num_layers=num_layers, \n",
    "            bidirectional=True, \n",
    "            batch_first = True\n",
    "        )\n",
    "\n",
    "        # fully connected layer\n",
    "        # passing through Tanh activation function (self.tanh = nn.Tanh) for nonlinearity\n",
    "        self.fc = nn.Sequential(\n",
    "            nn.Linear(hidden_size * 2, input_size),  # Linear layer\n",
    "            nn.Tanh(),  # Tanh activation\n",
    "        )\n",
    "\n",
    "    def prob_to_char_out(self, output):\n",
    "        _, predicted_classes = torch.max(output, dim=2)\n",
    "        return predicted_classes     \n",
    "\n",
    "    def forward(self, x):\n",
    "        # encoding\n",
    "        # embed input integer indices to floating point vectors\n",
    "        # after embedding, shape of x becomes (batch size, sequence length, embedding dimensions)\n",
    "        x = self.embedding(x)\n",
    "\n",
    "        # encoder_output shape is (batch size, sequence length, hidden_size * 2)\n",
    "        # hidden shape is (num_layers * 2, batch size, hidden_size)\n",
    "        encoder_output, hidden = self.encoder(x)\n",
    "    \n",
    "\n",
    "\n",
    "        return encoder_output"
   ]
  },
  {
   "cell_type": "markdown",
   "metadata": {},
   "source": [
    "## Prepare Data"
   ]
  },
  {
   "cell_type": "code",
   "execution_count": 84,
   "metadata": {},
   "outputs": [],
   "source": [
    "# load input\n",
    "data = pd.read_csv('dataset/filtered_gc_spec.csv')\n",
    "input_MS = pd.Series(data[\"Spectrum\"])\n",
    "output_SMILES = pd.Series(data[\"SMILES\"])\n",
    "\n",
    "# filter input by length of SMILES (<77)\n",
    "output_SMILES_filtered = output_SMILES[output_SMILES.str.len() < 77]\n",
    "\n",
    "# filter spectra according to the filtering of SMILES\n",
    "input_MS_filtered = input_MS.loc[output_SMILES_filtered.index]"
   ]
  },
  {
   "cell_type": "code",
   "execution_count": 90,
   "metadata": {},
   "outputs": [],
   "source": [
    "# create a list of of all tokens for the MS strings-- every token consists as one entry in the list\n",
    "tokens = [peak.lower() for spec in input_MS_filtered for peak in spec.split()]\n",
    "\n",
    "# tokenize each entry in the MS data\n",
    "tokenized_input_MS = [spec.split() for spec in input_MS_filtered]\n",
    "\n",
    "\n",
    "# Create a set of unique tokens\n",
    "unique_tokens = set(tokens)\n",
    "\n",
    "# Vocabulary size is the number of unique tokens\n",
    "vocab_size = len(unique_tokens)\n",
    "\n",
    "# mapping from characters to integers\n",
    "token_mapping = {char: i for i, char in enumerate(unique_tokens)}\n",
    "\n",
    "# convert SMILES tokenized lists into integer lists\n",
    "input_token_mapping = [\n",
    "    [token_mapping[char] for char in sublist]\n",
    "    for sublist in tokenized_input_MS]"
   ]
  },
  {
   "cell_type": "code",
   "execution_count": 91,
   "metadata": {},
   "outputs": [],
   "source": [
    "# determine the length of the longest list\n",
    "lengths = []\n",
    "for spec in input_token_mapping:\n",
    "    length = len(spec)\n",
    "    lengths.append(length)\n",
    "\n",
    "max_length = max(lengths)\n",
    "\n",
    "# add padding according to the longest list\n",
    "# input to the model will be input_token_mapping\n",
    "for entry in input_token_mapping:\n",
    "    entry.extend([0] * (max_length - len(entry)))"
   ]
  },
  {
   "cell_type": "code",
   "execution_count": 105,
   "metadata": {},
   "outputs": [],
   "source": [
    "test_list = input_token_mapping[0:5]\n",
    "\n",
    "# Create a tensor from the tokenized mapping list\n",
    "input_tensor = torch.tensor(test_list) \n",
    "\n",
    "# comvert tensor to correect data type\n",
    "input_tensor = input_tensor.float()\n",
    "\n",
    "# converting tensor size to a size that is equivalent to the AE embeddings (77)\n",
    "Linear = nn.Linear(524, 77)\n",
    "input_tensor = Linear(input_tensor)\n"
   ]
  },
  {
   "cell_type": "code",
   "execution_count": 117,
   "metadata": {},
   "outputs": [
    {
     "ename": "ArgumentError",
     "evalue": "Python argument types in\n    rdkit.Chem.rdmolfiles.MolToSmiles(Mol)\ndid not match C++ signature:\n    MolToSmiles(RDKit::ROMol mol, bool isomericSmiles=True, bool kekuleSmiles=False, int rootedAtAtom=-1, bool canonical=True, bool allBondsExplicit=False, bool allHsExplicit=False, bool doRandom=False)\n    MolToSmiles(RDKit::ROMol mol, RDKit::SmilesWriteParams params)",
     "output_type": "error",
     "traceback": [
      "\u001b[0;31m---------------------------------------------------------------------------\u001b[0m",
      "\u001b[0;31mArgumentError\u001b[0m                             Traceback (most recent call last)",
      "Cell \u001b[0;32mIn[117], line 14\u001b[0m\n\u001b[1;32m     12\u001b[0m \u001b[38;5;66;03m# establish a list of randomized smiles correspondign to the spectra\u001b[39;00m\n\u001b[1;32m     13\u001b[0m cannonicalized \u001b[38;5;241m=\u001b[39m \u001b[38;5;28mlist\u001b[39m(output_SMILES_filtered[\u001b[38;5;241m0\u001b[39m:\u001b[38;5;241m5\u001b[39m])\n\u001b[0;32m---> 14\u001b[0m smiles \u001b[38;5;241m=\u001b[39m \u001b[43mrandomized_smiles\u001b[49m\u001b[43m(\u001b[49m\u001b[43mcannonicalized\u001b[49m\u001b[43m)\u001b[49m\n",
      "Cell \u001b[0;32mIn[117], line 8\u001b[0m, in \u001b[0;36mrandomized_smiles\u001b[0;34m(canonicalized)\u001b[0m\n\u001b[1;32m      6\u001b[0m     mol \u001b[38;5;241m=\u001b[39m Chem\u001b[38;5;241m.\u001b[39mMolFromSmiles(string)\n\u001b[1;32m      7\u001b[0m     atom_index \u001b[38;5;241m=\u001b[39m random\u001b[38;5;241m.\u001b[39mrandint(\u001b[38;5;241m0\u001b[39m, \u001b[38;5;28mlen\u001b[39m(mol\u001b[38;5;241m.\u001b[39mGetAtoms()) \u001b[38;5;241m-\u001b[39m \u001b[38;5;241m1\u001b[39m)\n\u001b[0;32m----> 8\u001b[0m     random_smiles \u001b[38;5;241m=\u001b[39m \u001b[43mChem\u001b[49m\u001b[38;5;241;43m.\u001b[39;49m\u001b[43mMolToSmiles\u001b[49m\u001b[43m(\u001b[49m\u001b[43mmol\u001b[49m\u001b[43m,\u001b[49m\u001b[43m \u001b[49m\u001b[43matom_ordering\u001b[49m\u001b[38;5;241;43m=\u001b[39;49m\u001b[43mmol\u001b[49m\u001b[38;5;241;43m.\u001b[39;49m\u001b[43mGetAtoms\u001b[49m\u001b[43m(\u001b[49m\u001b[43m)\u001b[49m\u001b[43m[\u001b[49m\u001b[43matom_index\u001b[49m\u001b[43m]\u001b[49m\u001b[43m)\u001b[49m\n\u001b[1;32m      9\u001b[0m     smiles\u001b[38;5;241m.\u001b[39mappend(random_smiles)\n\u001b[1;32m     10\u001b[0m \u001b[38;5;28;01mreturn\u001b[39;00m smiles\n",
      "\u001b[0;31mArgumentError\u001b[0m: Python argument types in\n    rdkit.Chem.rdmolfiles.MolToSmiles(Mol)\ndid not match C++ signature:\n    MolToSmiles(RDKit::ROMol mol, bool isomericSmiles=True, bool kekuleSmiles=False, int rootedAtAtom=-1, bool canonical=True, bool allBondsExplicit=False, bool allHsExplicit=False, bool doRandom=False)\n    MolToSmiles(RDKit::ROMol mol, RDKit::SmilesWriteParams params)"
     ]
    }
   ],
   "source": [
    "# randomize canonicalized smiles function\n",
    "import random \n",
    "def randomized_smiles(canonicalized):\n",
    "    smiles = []\n",
    "    for string in canonicalized:\n",
    "        mol = Chem.MolFromSmiles(string)\n",
    "        atom_index = random.randint(0, len(mol.GetAtoms()) - 1)\n",
    "        random_smiles = Chem.MolToSmiles(mol, atom_ordering=mol.GetAtoms()[atom_index])\n",
    "        smiles.append(random_smiles)\n",
    "    return smiles\n",
    "\n",
    "# establish a list of randomized smiles correspondign to the spectra\n",
    "cannonicalized = list(output_SMILES_filtered[0:5])\n",
    "smiles = randomized_smiles(cannonicalized)"
   ]
  },
  {
   "cell_type": "code",
   "execution_count": 126,
   "metadata": {},
   "outputs": [
    {
     "name": "stdout",
     "output_type": "stream",
     "text": [
      "Canonical SMILES: CCO\n",
      "Randomized SMILES: CCO\n"
     ]
    }
   ],
   "source": [
    "\n",
    "\n",
    "def randomize_smiles(smiles):\n",
    "    # Convert SMILES to RDKit molecule object\n",
    "    mol = Chem.MolFromSmiles(smiles)\n",
    "    \n",
    "    # Get the atom list (this will allow us to randomize the atom order)\n",
    "    atoms = list(mol.GetAtoms())\n",
    "    \n",
    "    # Shuffle the atom list (this does not affect bond connectivity)\n",
    "    random.shuffle(atoms)\n",
    "\n",
    "    # Create a new molecule with the shuffled atom order\n",
    "    mol_copy = Chem.RWMol(mol)\n",
    "    new_atoms = [atom.GetIdx() for atom in atoms]\n",
    "    \n",
    "    # Create a new molecule with the randomized atoms\n",
    "    randomized_mol = Chem.RWMol(mol)\n",
    "    for i, atom in enumerate(new_atoms):\n",
    "        randomized_mol.ReplaceAtom(i, mol.GetAtomWithIdx(atom))\n",
    "    \n",
    "    # Generate the new SMILES string from the randomized molecule\n",
    "    randomized_smiles = Chem.MolToSmiles(randomized_mol)\n",
    "    \n",
    "    return randomized_smiles\n",
    "\n"
   ]
  },
  {
   "cell_type": "code",
   "execution_count": 128,
   "metadata": {},
   "outputs": [
    {
     "data": {
      "text/plain": [
       "'OCC=1C=CC=CC1'"
      ]
     },
     "execution_count": 128,
     "metadata": {},
     "output_type": "execute_result"
    }
   ],
   "source": [
    "output_SMILES_filtered[0]"
   ]
  },
  {
   "cell_type": "markdown",
   "metadata": {},
   "source": [
    "randomized_smiles(output_SMILES_filtered[0])"
   ]
  },
  {
   "cell_type": "markdown",
   "metadata": {},
   "source": [
    "## Train Transformer Encoder"
   ]
  },
  {
   "cell_type": "code",
   "execution_count": null,
   "metadata": {},
   "outputs": [],
   "source": [
    "src_vocab_size = vocab_size # determined from the unique number of tokens\n",
    "tgt_vocab_size = 5000 #need to specify\n",
    "d_model = max_length # determined from the embedding size \n",
    "num_heads = 4 # d_model must be divisible by the number of heads-- d_model is 524\n",
    "num_layers = 6 #from original paper\n",
    "d_ff = 2048 #from original paper-- dimensionality of the inner layer in the feed-forward network \n",
    "max_seq_length = max_length # maximum sequence length for positional encoding \n",
    "dropout = 0.1\n",
    "transformer = Transformer(src_vocab_size, d_model, num_heads, num_layers, d_ff, max_seq_length, dropout)"
   ]
  }
 ],
 "metadata": {
  "kernelspec": {
   "display_name": "msse-python",
   "language": "python",
   "name": "python3"
  },
  "language_info": {
   "codemirror_mode": {
    "name": "ipython",
    "version": 3
   },
   "file_extension": ".py",
   "mimetype": "text/x-python",
   "name": "python",
   "nbconvert_exporter": "python",
   "pygments_lexer": "ipython3",
   "version": "3.11.9"
  }
 },
 "nbformat": 4,
 "nbformat_minor": 2
}
