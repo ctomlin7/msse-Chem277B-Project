{
 "cells": [
  {
   "cell_type": "code",
   "execution_count": 1,
   "metadata": {},
   "outputs": [],
   "source": [
    "import torch\n",
    "import torch.nn as nn\n",
    "import torch.optim as optim\n",
    "import torch.utils.data as data\n",
    "import math\n",
    "import copy\n",
    "import pandas as pd\n",
    "from rdkit import Chem"
   ]
  },
  {
   "cell_type": "markdown",
   "metadata": {},
   "source": [
    "## Transformer components"
   ]
  },
  {
   "cell_type": "code",
   "execution_count": null,
   "metadata": {},
   "outputs": [],
   "source": [
    "# transformer class components source: https://www.datacamp.com/tutorial/building-a-transformer-with-py-torch"
   ]
  },
  {
   "cell_type": "code",
   "execution_count": 23,
   "metadata": {},
   "outputs": [],
   "source": [
    "class MultiHeadAttention(nn.Module):\n",
    "    def __init__(self, d_model, num_heads):\n",
    "        super(MultiHeadAttention, self).__init__()\n",
    "        # Ensure that the model dimension (d_model) is divisible by the number of heads\n",
    "        assert d_model % num_heads == 0, \"d_model must be divisible by num_heads\"\n",
    "        \n",
    "        # Initialize dimensions\n",
    "        self.d_model = d_model # Model's dimension\n",
    "        self.num_heads = num_heads # Number of attention heads\n",
    "        self.d_k = d_model // num_heads # Dimension of each head's key, query, and value\n",
    "        \n",
    "        # Linear layers for transforming inputs\n",
    "        self.W_q = nn.Linear(d_model, d_model) # Query transformation\n",
    "        self.W_k = nn.Linear(d_model, d_model) # Key transformation\n",
    "        self.W_v = nn.Linear(d_model, d_model) # Value transformation\n",
    "        self.W_o = nn.Linear(d_model, d_model) # Output transformation\n",
    "        \n",
    "    def scaled_dot_product_attention(self, Q, K, V, mask=None):\n",
    "        # Calculate attention scores\n",
    "        attn_scores = torch.matmul(Q, K.transpose(-2, -1)) / math.sqrt(self.d_k)\n",
    "        \n",
    "        # Apply mask if provided (useful for preventing attention to certain parts like padding)\n",
    "        if mask is not None:\n",
    "            attn_scores = attn_scores.masked_fill(mask == 0, -1e9)\n",
    "        \n",
    "        # Softmax is applied to obtain attention probabilities\n",
    "        attn_probs = torch.softmax(attn_scores, dim=-1)\n",
    "        \n",
    "        # Multiply by values to obtain the final output\n",
    "        output = torch.matmul(attn_probs, V)\n",
    "        return output\n",
    "        \n",
    "    def split_heads(self, x):\n",
    "        # Reshape the input to have num_heads for multi-head attention\n",
    "        batch_size, seq_length, d_model = x.size()\n",
    "        return x.view(batch_size, seq_length, self.num_heads, self.d_k).transpose(1, 2)\n",
    "        \n",
    "    def combine_heads(self, x):\n",
    "        # Combine the multiple heads back to original shape\n",
    "        batch_size, _, seq_length, d_k = x.size()\n",
    "        return x.transpose(1, 2).contiguous().view(batch_size, seq_length, self.d_model)\n",
    "        \n",
    "    def forward(self, Q, K, V, mask=None):\n",
    "        # Apply linear transformations and split heads\n",
    "        Q = self.split_heads(self.W_q(Q))\n",
    "        K = self.split_heads(self.W_k(K))\n",
    "        V = self.split_heads(self.W_v(V))\n",
    "        \n",
    "        # Perform scaled dot-product attention\n",
    "        attn_output = self.scaled_dot_product_attention(Q, K, V, mask)\n",
    "        \n",
    "        # Combine heads and apply output transformation\n",
    "        output = self.W_o(self.combine_heads(attn_output))\n",
    "        return output"
   ]
  },
  {
   "cell_type": "code",
   "execution_count": 24,
   "metadata": {},
   "outputs": [],
   "source": [
    "class PositionWiseFeedForward(nn.Module):\n",
    "    def __init__(self, d_model, d_ff):\n",
    "        super(PositionWiseFeedForward, self).__init__()\n",
    "        self.fc1 = nn.Linear(d_model, d_ff)\n",
    "        self.fc2 = nn.Linear(d_ff, d_model)\n",
    "        self.relu = nn.ReLU()\n",
    "\n",
    "    def forward(self, x):\n",
    "        return self.fc2(self.relu(self.fc1(x)))"
   ]
  },
  {
   "cell_type": "code",
   "execution_count": 25,
   "metadata": {},
   "outputs": [],
   "source": [
    "class PositionalEncoding(nn.Module):\n",
    "    def __init__(self, d_model, max_seq_length):\n",
    "        super(PositionalEncoding, self).__init__()\n",
    "        \n",
    "        pe = torch.zeros(max_seq_length, d_model)\n",
    "        position = torch.arange(0, max_seq_length, dtype=torch.float).unsqueeze(1)\n",
    "\n",
    "        # adjust for odd/even dimensions\n",
    "        div_term = torch.exp(torch.arange(0, d_model, 2).float() * -(math.log(10000.0) / d_model))\n",
    "        \n",
    "        pe[:, 0::2] = torch.sin(position * div_term)\n",
    "        pe[:, 1::2] = torch.cos(position * div_term[:(d_model + 1) // 2])\n",
    "       \n",
    "        self.register_buffer('pe', pe.unsqueeze(0))\n",
    "        \n",
    "    def forward(self, x):\n",
    "        return x + self.pe[:, :x.size(1)]"
   ]
  },
  {
   "cell_type": "code",
   "execution_count": 26,
   "metadata": {},
   "outputs": [],
   "source": [
    "class EncoderLayer(nn.Module):\n",
    "    def __init__(self, d_model, num_heads, d_ff, dropout):\n",
    "        super(EncoderLayer, self).__init__()\n",
    "        self.self_attn = MultiHeadAttention(d_model, num_heads)\n",
    "        self.feed_forward = PositionWiseFeedForward(d_model, d_ff)\n",
    "        self.norm1 = nn.LayerNorm(d_model)\n",
    "        self.norm2 = nn.LayerNorm(d_model)\n",
    "        self.dropout = nn.Dropout(dropout)\n",
    "        \n",
    "    def forward(self, x):\n",
    "        attn_output = self.self_attn(x, x, x)\n",
    "        x = self.norm1(x + self.dropout(attn_output))\n",
    "        ff_output = self.feed_forward(x)\n",
    "        x = self.norm2(x + self.dropout(ff_output))\n",
    "        return x"
   ]
  },
  {
   "cell_type": "markdown",
   "metadata": {},
   "source": [
    "## SMILES Autoenocoder"
   ]
  },
  {
   "cell_type": "code",
   "execution_count": 8,
   "metadata": {},
   "outputs": [],
   "source": [
    "class bidirectional_GRU_AE(nn.Module):\n",
    "    def __init__(self, input_size, hidden_size, num_layers=3, embedding_dim=10):\n",
    "        super(bidirectional_GRU_AE, self).__init__()\n",
    "\n",
    "        # TEST WHETHER CHAR_TO_INT DICT IS NECESSARY WITH THIS\n",
    "        # embedding layer to convert integer indices to dense float vectors\n",
    "        self.embedding = nn.Embedding(input_size, embedding_dim)\n",
    "        self.encoder_ouput = []\n",
    "\n",
    "        self.encoder = nn.GRU(\n",
    "            input_size=embedding_dim, \n",
    "            hidden_size=hidden_size, \n",
    "            num_layers=num_layers, \n",
    "            bidirectional=True,\n",
    "            # input and output tensors are (batch_size, seq_len) format\n",
    "            batch_first = True      \n",
    "        )\n",
    "\n",
    "        self.decoder = nn.GRU(\n",
    "            # for bidirectional GRU, input size is doubled (each hidden layer as forward and backward state)\n",
    "            input_size=hidden_size * 2,     \n",
    "            hidden_size=hidden_size, \n",
    "            num_layers=num_layers, \n",
    "            bidirectional=True, \n",
    "            batch_first = True\n",
    "        )\n",
    "\n",
    "        # fully connected layer\n",
    "        # passing through Tanh activation function (self.tanh = nn.Tanh) for nonlinearity\n",
    "        self.fc = nn.Sequential(\n",
    "            nn.Linear(hidden_size * 2, input_size),  # Linear layer\n",
    "            nn.Tanh(),  # Tanh activation\n",
    "        )\n",
    "\n",
    "    def prob_to_char_out(self, output):\n",
    "        _, predicted_classes = torch.max(output, dim=2)\n",
    "        return predicted_classes     \n",
    "\n",
    "    def forward(self, x):\n",
    "        # encoding\n",
    "        # embed input integer indices to floating point vectors\n",
    "        # after embedding, shape of x becomes (batch size, sequence length, embedding dimensions)\n",
    "        x = self.embedding(x)\n",
    "\n",
    "        # encoder_output shape is (batch size, sequence length, hidden_size * 2)\n",
    "        # hidden shape is (num_layers * 2, batch size, hidden_size)\n",
    "        encoder_output, hidden = self.encoder(x)\n",
    "    \n",
    "        return encoder_output"
   ]
  },
  {
   "cell_type": "code",
   "execution_count": 9,
   "metadata": {},
   "outputs": [],
   "source": [
    "# load input\n",
    "data = pd.read_csv('dataset/filtered_gc_spec.csv')\n",
    "input_MS = pd.Series(data[\"Spectrum\"])\n",
    "output_SMILES = pd.Series(data[\"SMILES\"])\n",
    "\n",
    "# filter input by length of SMILES (<77)\n",
    "output_SMILES_filtered = output_SMILES[output_SMILES.str.len() < 77]\n",
    "\n",
    "# filter spectra according to the filtering of SMILES\n",
    "input_MS_filtered = input_MS.loc[output_SMILES_filtered.index]"
   ]
  },
  {
   "cell_type": "code",
   "execution_count": 11,
   "metadata": {},
   "outputs": [],
   "source": [
    "import random \n",
    "\n",
    "# add padding the the SMILES strings according to the max length \n",
    "max_length = 77\n",
    "output_smiles_filtered = output_SMILES_filtered.apply(lambda x: x.ljust(max_length, ' '))\n",
    "output_smiles_tokens = output_SMILES_filtered.apply(lambda x: list(x))\n",
    "flattened_token_list = [item for sublist in output_smiles_tokens for item in sublist]\n",
    "unique_characters = set(flattened_token_list)\n",
    "\n",
    "# mapping from characters to integers\n",
    "char_to_int = {char: i for i, char in enumerate(unique_characters)}\n",
    "\n",
    "int_list_smiles = [\n",
    "    [char_to_int[char] for char in sublist]\n",
    "    for sublist in output_smiles_tokens]\n",
    "\n",
    "# add padding according to the longest list\n",
    "# input to the model will be input_token_mapping\n",
    "# add padded value so all lists are of same length \n",
    "for entry in int_list_smiles:\n",
    "    entry.extend([0] * (max_length - len(entry)))\n",
    "\n",
    "# take a small fraction of the total data for testing purposes\n",
    "smiles_list = int_list_smiles[0:5]\n",
    "\n",
    "# replicate randomized smiles by shuffling tokens in the list\n",
    "for sub_list in smiles_list:\n",
    "    random.shuffle(sub_list)\n",
    "\n",
    "\n",
    "# create a tensor from smiles_list-- this will be the input to the SMILES autoencoder\n",
    "smiles_tensor = torch.tensor(smiles_list, dtype=float) "
   ]
  },
  {
   "cell_type": "code",
   "execution_count": 14,
   "metadata": {},
   "outputs": [],
   "source": [
    "# train bidirectional GRU AE model\n",
    "\n",
    "# Hyperparameters\n",
    "seq_len = 77\n",
    "input_size = 64     # vocabulary size  - number of unique chars in SMILES  \n",
    "embed_dim = 10     \n",
    "hidden_dim = 10    \n",
    "num_layers = 3\n",
    "batch_size = 1\n",
    "learning_rate = 0.0001\n",
    "#dropout = 0.1\n",
    "\n",
    "\n",
    "# instantiate model\n",
    "model = bidirectional_GRU_AE(input_size, hidden_dim, num_layers, embed_dim)\n",
    "\n",
    "input = smiles_tensor.long()\n",
    "smiles_encoder_output = model.forward(input)\n"
   ]
  },
  {
   "cell_type": "code",
   "execution_count": 45,
   "metadata": {},
   "outputs": [
    {
     "data": {
      "text/plain": [
       "torch.Size([5, 77, 20])"
      ]
     },
     "execution_count": 45,
     "metadata": {},
     "output_type": "execute_result"
    }
   ],
   "source": [
    "smiles_encoder_output.shape"
   ]
  },
  {
   "cell_type": "markdown",
   "metadata": {},
   "source": [
    "## Prepare MS Data"
   ]
  },
  {
   "cell_type": "code",
   "execution_count": 17,
   "metadata": {},
   "outputs": [],
   "source": [
    "# load input\n",
    "data = pd.read_csv('dataset/filtered_gc_spec.csv')\n",
    "input_MS = pd.Series(data[\"Spectrum\"])\n",
    "output_SMILES = pd.Series(data[\"SMILES\"])\n",
    "\n",
    "# filter input by length of SMILES (<77)\n",
    "output_SMILES_filtered = output_SMILES[output_SMILES.str.len() < 77]\n",
    "\n",
    "# filter spectra according to the filtering of SMILES\n",
    "input_MS_filtered = input_MS.loc[output_SMILES_filtered.index]"
   ]
  },
  {
   "cell_type": "code",
   "execution_count": 18,
   "metadata": {},
   "outputs": [],
   "source": [
    "# create a list of of all tokens for the MS strings-- every token consists as one entry in the list\n",
    "tokens = [peak.lower() for spec in input_MS_filtered for peak in spec.split()]\n",
    "# append token that will be used for padding\n",
    "tokens.append('0')\n",
    "\n",
    "# tokenize each entry in the MS data\n",
    "tokenized_input_MS = [spec.split() for spec in input_MS_filtered]\n",
    "\n",
    "# Create a set of unique tokens\n",
    "unique_tokens = set(tokens)\n",
    "\n",
    "# Vocabulary size is the number of unique tokens\n",
    "vocab_size = len(unique_tokens)\n",
    "\n",
    "# mapping from characters to integers\n",
    "token_mapping = {char: i for i, char in enumerate(unique_tokens)}\n",
    "\n",
    "spectra_lengths = []\n",
    "for spec in tokenized_input_MS:\n",
    "    length = len(spec)\n",
    "    spectra_lengths.append(length)\n",
    "\n",
    "# add padding to tokenized spec strings-- all strings will be of length 524\n",
    "padded_length = max(spectra_lengths)\n",
    "for spec in tokenized_input_MS:\n",
    "    spec.extend('0' * (padded_length - len(spec)))\n",
    "\n",
    "# convert SMILES tokenized lists into integer lists\n",
    "input_token_mapping = [\n",
    "    [token_mapping[char] for char in sublist]\n",
    "    for sublist in tokenized_input_MS]"
   ]
  },
  {
   "cell_type": "code",
   "execution_count": 19,
   "metadata": {},
   "outputs": [],
   "source": [
    "# create tensor from a small portion of data\n",
    "test_list = input_token_mapping[0:5]\n",
    "\n",
    "spec_tensor = torch.tensor(test_list)\n",
    "\n",
    "# create one hot embeddings for spec_tensor\n",
    "spec_embeddings = torch.nn.functional.one_hot(spec_tensor, num_classes=vocab_size).float()"
   ]
  },
  {
   "cell_type": "code",
   "execution_count": 20,
   "metadata": {},
   "outputs": [
    {
     "data": {
      "text/plain": [
       "torch.Size([5, 524, 506844])"
      ]
     },
     "execution_count": 20,
     "metadata": {},
     "output_type": "execute_result"
    }
   ],
   "source": [
    "spec_embeddings.shape"
   ]
  },
  {
   "cell_type": "code",
   "execution_count": 21,
   "metadata": {},
   "outputs": [
    {
     "name": "stdout",
     "output_type": "stream",
     "text": [
      "Spec embedding shape: torch.Size([5, 77, 20])\n"
     ]
    }
   ],
   "source": [
    "import torch.nn.functional as F\n",
    "# Input tensor\n",
    "# Step 1: Reduce the second dimension (524 -> 77) using adaptive pooling\n",
    "spec_embeddings_reduced = F.adaptive_avg_pool1d(spec_embeddings.permute(0, 2, 1), output_size=77)  # Permute to (5, 506844, 524)\n",
    "spec_embeddings_reduced = spec_embeddings_reduced.permute(0, 2, 1)  # Back to (5, 77, 506844)\n",
    "\n",
    "# Step 2: Reduce the last dimension (506844 -> 9) using adaptive pooling\n",
    "spec_final_embeddings = F.adaptive_avg_pool1d(spec_embeddings_reduced, output_size=20)  # Now (5, 77, 20)\n",
    "print(f'Spec embedding shape: {spec_final_embeddings.shape}')"
   ]
  },
  {
   "cell_type": "markdown",
   "metadata": {},
   "source": [
    "## Train Transformer Encoder"
   ]
  },
  {
   "cell_type": "code",
   "execution_count": 38,
   "metadata": {},
   "outputs": [],
   "source": [
    "class Transformer(nn.Module):\n",
    "    def __init__(self, d_model, num_heads, num_layers, d_ff, max_seq_length, dropout, encoder_embeddings):\n",
    "        super(Transformer, self).__init__()\n",
    "        self.encoder_embedding = encoder_embeddings\n",
    "        self.positional_encoding = PositionalEncoding(d_model, max_seq_length)\n",
    "\n",
    "        self.encoder_layers = nn.ModuleList([EncoderLayer(d_model, num_heads, d_ff, dropout) for _ in range(num_layers)])\n",
    "\n",
    "        self.dropout = nn.Dropout(dropout)\n",
    "\n",
    "\n",
    "    def forward(self, src):\n",
    "\n",
    "        src_embedded = self.dropout(self.positional_encoding(self.encoder_embedding))\n",
    "        enc_output = src_embedded\n",
    "        for enc_layer in self.encoder_layers:\n",
    "            enc_output = enc_layer(enc_output)\n",
    "\n",
    "        output = enc_output\n",
    "        return output"
   ]
  },
  {
   "cell_type": "code",
   "execution_count": 39,
   "metadata": {},
   "outputs": [],
   "source": [
    "src_vocab_size = vocab_size # determined from the unique number of tokens from spectra data\n",
    "#tgt_vocab_size = 44 # specified from the SMILES token mapping dictionary-- there were 44 unique tokens \n",
    "d_model = 20 # determined from the embedding size-- 20 was the embedding size used in the SMILES AE\n",
    "num_heads = 2 # d_model must be divisible by the number of heads--d_model is 20\n",
    "num_layers = 6 #from original paper\n",
    "d_ff = 2048 #from original paper-- dimensionality of the inner layer in the feed-forward network \n",
    "max_seq_length = 77 # maximum sequence length for positional encoding \n",
    "dropout = 0.1\n",
    "transformer = Transformer(d_model, num_heads, num_layers, d_ff, max_seq_length, dropout, spec_final_embeddings)"
   ]
  },
  {
   "cell_type": "code",
   "execution_count": 51,
   "metadata": {},
   "outputs": [
    {
     "name": "stdout",
     "output_type": "stream",
     "text": [
      "Epoch: 1, Loss: 0.9561964869499207\n",
      "Epoch: 2, Loss: 0.9560401439666748\n",
      "Epoch: 3, Loss: 0.9558040499687195\n",
      "Epoch: 4, Loss: 0.9556138515472412\n",
      "Epoch: 5, Loss: 0.955420196056366\n",
      "Epoch: 6, Loss: 0.955214262008667\n",
      "Epoch: 7, Loss: 0.9550080299377441\n",
      "Epoch: 8, Loss: 0.9548062086105347\n",
      "Epoch: 9, Loss: 0.9546112418174744\n",
      "Epoch: 10, Loss: 0.9544100761413574\n",
      "Epoch: 11, Loss: 0.9542122483253479\n",
      "Epoch: 12, Loss: 0.9540103077888489\n",
      "Epoch: 13, Loss: 0.9538094997406006\n",
      "Epoch: 14, Loss: 0.953611433506012\n",
      "Epoch: 15, Loss: 0.9534114599227905\n",
      "Epoch: 16, Loss: 0.9532116055488586\n",
      "Epoch: 17, Loss: 0.953013002872467\n",
      "Epoch: 18, Loss: 0.9528116583824158\n",
      "Epoch: 19, Loss: 0.9526110887527466\n",
      "Epoch: 20, Loss: 0.9524118304252625\n",
      "Epoch: 21, Loss: 0.9522145986557007\n",
      "Epoch: 22, Loss: 0.9520140290260315\n",
      "Epoch: 23, Loss: 0.9518147706985474\n",
      "Epoch: 24, Loss: 0.9516147375106812\n",
      "Epoch: 25, Loss: 0.9514146447181702\n",
      "Epoch: 26, Loss: 0.9512162804603577\n",
      "Epoch: 27, Loss: 0.9510171413421631\n",
      "Epoch: 28, Loss: 0.9508178234100342\n",
      "Epoch: 29, Loss: 0.9506176114082336\n",
      "Epoch: 30, Loss: 0.9504185914993286\n",
      "Epoch: 31, Loss: 0.9502165913581848\n",
      "Epoch: 32, Loss: 0.9500211477279663\n",
      "Epoch: 33, Loss: 0.9498200416564941\n",
      "Epoch: 34, Loss: 0.9496203064918518\n",
      "Epoch: 35, Loss: 0.949421226978302\n",
      "Epoch: 36, Loss: 0.9492202997207642\n",
      "Epoch: 37, Loss: 0.9490219950675964\n",
      "Epoch: 38, Loss: 0.9488223791122437\n",
      "Epoch: 39, Loss: 0.9486225843429565\n",
      "Epoch: 40, Loss: 0.948423445224762\n",
      "Epoch: 41, Loss: 0.9482250809669495\n",
      "Epoch: 42, Loss: 0.9480243921279907\n",
      "Epoch: 43, Loss: 0.9478244781494141\n",
      "Epoch: 44, Loss: 0.9476259350776672\n",
      "Epoch: 45, Loss: 0.9474262595176697\n",
      "Epoch: 46, Loss: 0.9472276568412781\n",
      "Epoch: 47, Loss: 0.9470263123512268\n",
      "Epoch: 48, Loss: 0.9468270540237427\n",
      "Epoch: 49, Loss: 0.946628212928772\n",
      "Epoch: 50, Loss: 0.9464289546012878\n",
      "Epoch: 51, Loss: 0.9462299346923828\n",
      "Epoch: 52, Loss: 0.9460301399230957\n",
      "Epoch: 53, Loss: 0.9458307027816772\n",
      "Epoch: 54, Loss: 0.9456325173377991\n",
      "Epoch: 55, Loss: 0.9454321265220642\n",
      "Epoch: 56, Loss: 0.945232629776001\n",
      "Epoch: 57, Loss: 0.9450332522392273\n",
      "Epoch: 58, Loss: 0.9448341131210327\n",
      "Epoch: 59, Loss: 0.9446329474449158\n",
      "Epoch: 60, Loss: 0.9444342851638794\n",
      "Epoch: 61, Loss: 0.944235622882843\n",
      "Epoch: 62, Loss: 0.9440368413925171\n",
      "Epoch: 63, Loss: 0.9438363909721375\n",
      "Epoch: 64, Loss: 0.9436360597610474\n",
      "Epoch: 65, Loss: 0.9434370398521423\n",
      "Epoch: 66, Loss: 0.9432381391525269\n",
      "Epoch: 67, Loss: 0.9430384039878845\n",
      "Epoch: 68, Loss: 0.942838728427887\n",
      "Epoch: 69, Loss: 0.9426394104957581\n",
      "Epoch: 70, Loss: 0.9424408078193665\n",
      "Epoch: 71, Loss: 0.9422404170036316\n",
      "Epoch: 72, Loss: 0.9420405626296997\n",
      "Epoch: 73, Loss: 0.9418424963951111\n",
      "Epoch: 74, Loss: 0.941642701625824\n",
      "Epoch: 75, Loss: 0.9414424896240234\n",
      "Epoch: 76, Loss: 0.9412427544593811\n",
      "Epoch: 77, Loss: 0.9410439729690552\n",
      "Epoch: 78, Loss: 0.9408445358276367\n",
      "Epoch: 79, Loss: 0.9406456351280212\n",
      "Epoch: 80, Loss: 0.9404452443122864\n",
      "Epoch: 81, Loss: 0.9402464628219604\n",
      "Epoch: 82, Loss: 0.940047025680542\n",
      "Epoch: 83, Loss: 0.9398475289344788\n",
      "Epoch: 84, Loss: 0.9396487474441528\n",
      "Epoch: 85, Loss: 0.939448356628418\n",
      "Epoch: 86, Loss: 0.9392480850219727\n",
      "Epoch: 87, Loss: 0.9390480518341064\n",
      "Epoch: 88, Loss: 0.9388484954833984\n",
      "Epoch: 89, Loss: 0.938650906085968\n",
      "Epoch: 90, Loss: 0.9384503364562988\n",
      "Epoch: 91, Loss: 0.9382516741752625\n",
      "Epoch: 92, Loss: 0.9380509853363037\n",
      "Epoch: 93, Loss: 0.9378526210784912\n",
      "Epoch: 94, Loss: 0.9376537203788757\n",
      "Epoch: 95, Loss: 0.9374528527259827\n",
      "Epoch: 96, Loss: 0.9372533559799194\n",
      "Epoch: 97, Loss: 0.9370547533035278\n",
      "Epoch: 98, Loss: 0.9368542432785034\n",
      "Epoch: 99, Loss: 0.9366574883460999\n",
      "Epoch: 100, Loss: 0.9364563822746277\n"
     ]
    }
   ],
   "source": [
    "def RMSE(y_pred, y):\n",
    "    return torch.sqrt(torch.mean((y_pred-y)**2))\n",
    "\n",
    "\n",
    "criterion = RMSE\n",
    "optimizer = optim.Adam(transformer.parameters(), lr=0.0001, betas=(0.9, 0.98), eps=1e-9)\n",
    "\n",
    "transformer.train()\n",
    "\n",
    "losses = []\n",
    "for epoch in range(100):\n",
    "    optimizer.zero_grad()\n",
    "    output = transformer(spec_final_embeddings)\n",
    "    loss = criterion(output.contiguous(), spec_final_embeddings)\n",
    "    losses.append(loss.item())\n",
    "    loss.backward()\n",
    "    optimizer.step()\n",
    "    print(f\"Epoch: {epoch+1}, Loss: {loss.item()}\")\n"
   ]
  },
  {
   "cell_type": "code",
   "execution_count": null,
   "metadata": {},
   "outputs": [],
   "source": []
  }
 ],
 "metadata": {
  "kernelspec": {
   "display_name": "msse-python",
   "language": "python",
   "name": "python3"
  },
  "language_info": {
   "codemirror_mode": {
    "name": "ipython",
    "version": 3
   },
   "file_extension": ".py",
   "mimetype": "text/x-python",
   "name": "python",
   "nbconvert_exporter": "python",
   "pygments_lexer": "ipython3",
   "version": "3.11.9"
  }
 },
 "nbformat": 4,
 "nbformat_minor": 2
}
