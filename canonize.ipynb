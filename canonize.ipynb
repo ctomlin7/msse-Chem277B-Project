{
 "cells": [
  {
   "cell_type": "markdown",
   "metadata": {},
   "source": [
    "## Converting from raw SMILES data to canonized/cleaned data"
   ]
  },
  {
   "cell_type": "code",
   "execution_count": 1,
   "metadata": {},
   "outputs": [],
   "source": [
    "#import\n",
    "import pandas as pd\n",
    "from rdkit import Chem"
   ]
  },
  {
   "cell_type": "code",
   "execution_count": 3,
   "metadata": {},
   "outputs": [],
   "source": [
    "#read smiles data in\n",
    "smiles_df = pd.read_csv(\"../msse-Chem277B-Project/dataset/smiles.csv\") \n",
    "smiles_only = smiles_df[\"smiles\"]"
   ]
  },
  {
   "cell_type": "code",
   "execution_count": null,
   "metadata": {},
   "outputs": [],
   "source": [
    "#create rdkit molecule objects\n",
    "molecules = [Chem.MolFromSmiles(smile) for smile in smiles_only]"
   ]
  },
  {
   "cell_type": "code",
   "execution_count": null,
   "metadata": {},
   "outputs": [],
   "source": [
    "#using pickling because the conversion process is extremely memory-intensive\n",
    "\n",
    "import pickle\n",
    "\n",
    "with open('molecules.pkl', 'wb') as f:\n",
    "    pickle.dump(molecules, f)"
   ]
  },
  {
   "cell_type": "code",
   "execution_count": 5,
   "metadata": {},
   "outputs": [],
   "source": [
    "#breaking data into multiple arrays\n",
    "\n",
    "array_1 = molecules[0:50000]\n",
    "array_2 = molecules[50000:100000]\n",
    "array_3 = molecules[100000:150000]\n",
    "array_4 = molecules[150000:200000]\n",
    "array_5 = molecules[200000:250000]\n",
    "array_6 = molecules[250000:300000]\n",
    "array_7 = molecules[300000:350000]\n",
    "array_8 = molecules[350000:400000]\n",
    "array_9 = molecules[400000:450000]\n",
    "array_10 = molecules[450000:500000]\n",
    "array_11 = molecules[500000:550000]\n",
    "array_12 = molecules[550000:600000]\n",
    "array_13 = molecules[600000:]"
   ]
  },
  {
   "cell_type": "code",
   "execution_count": 6,
   "metadata": {},
   "outputs": [
    {
     "data": {
      "text/plain": [
       "706862"
      ]
     },
     "execution_count": 6,
     "metadata": {},
     "output_type": "execute_result"
    }
   ],
   "source": [
    "#examining rdkit object\n",
    "\n",
    "len(molecules)\n",
    "#706862 total molecules\n"
   ]
  },
  {
   "cell_type": "code",
   "execution_count": 7,
   "metadata": {},
   "outputs": [],
   "source": [
    "#sanitizing each array using RDkit - converting mol to SMILES to mol\n",
    "\n",
    "sanitized_1 = []\n",
    "\n",
    "for molecule in array_1:\n",
    "    if molecule is not None:\n",
    "        Chem.SanitizeMol(molecule) # sanitize\n",
    "        smiles_no_stereo = Chem.MolToSmiles(molecule, isomericSmiles=False, canonical=True)        \n",
    "        mol_no_stereo = Chem.MolFromSmiles(smiles_no_stereo)\n",
    "        sanitized_1.append(mol_no_stereo)\n",
    "\n",
    "with open('sanitized_1.pkl', 'wb') as f:\n",
    "    pickle.dump(sanitized_1, f)"
   ]
  },
  {
   "cell_type": "code",
   "execution_count": 8,
   "metadata": {},
   "outputs": [],
   "source": [
    "sanitized_2 = []\n",
    "\n",
    "for molecule in array_2:\n",
    "    if molecule is not None:\n",
    "        Chem.SanitizeMol(molecule) # sanitize\n",
    "        smiles_no_stereo = Chem.MolToSmiles(molecule, isomericSmiles=False, canonical=True)        \n",
    "        mol_no_stereo = Chem.MolFromSmiles(smiles_no_stereo)\n",
    "        sanitized_2.append(mol_no_stereo)\n",
    "\n",
    "with open('sanitized_2.pkl', 'wb') as f:\n",
    "    pickle.dump(sanitized_2, f)"
   ]
  },
  {
   "cell_type": "code",
   "execution_count": 9,
   "metadata": {},
   "outputs": [],
   "source": [
    "sanitized_3 = []\n",
    "\n",
    "for molecule in array_3:\n",
    "    if molecule is not None:\n",
    "        Chem.SanitizeMol(molecule) # sanitize\n",
    "        smiles_no_stereo = Chem.MolToSmiles(molecule, isomericSmiles=False, canonical=True)        \n",
    "        mol_no_stereo = Chem.MolFromSmiles(smiles_no_stereo)\n",
    "        sanitized_3.append(mol_no_stereo)\n",
    "\n",
    "with open('sanitized_3.pkl', 'wb') as f:\n",
    "    pickle.dump(sanitized_3, f)"
   ]
  },
  {
   "cell_type": "code",
   "execution_count": null,
   "metadata": {},
   "outputs": [
    {
     "ename": "",
     "evalue": "",
     "output_type": "error",
     "traceback": [
      "\u001b[1;31mThe Kernel crashed while executing code in the current cell or a previous cell. \n",
      "\u001b[1;31mPlease review the code in the cell(s) to identify a possible cause of the failure. \n",
      "\u001b[1;31mClick <a href='https://aka.ms/vscodeJupyterKernelCrash'>here</a> for more info. \n",
      "\u001b[1;31mView Jupyter <a href='command:jupyter.viewOutput'>log</a> for further details."
     ]
    }
   ],
   "source": [
    "sanitized_4 = []\n",
    "\n",
    "for molecule in array_4:\n",
    "    if molecule is not None:\n",
    "        Chem.SanitizeMol(molecule) # sanitize\n",
    "        smiles_no_stereo = Chem.MolToSmiles(molecule, isomericSmiles=False, canonical=True)        \n",
    "        mol_no_stereo = Chem.MolFromSmiles(smiles_no_stereo)\n",
    "        sanitized_4.append(mol_no_stereo)\n",
    "\n",
    "with open('sanitized_4.pkl', 'wb') as f:\n",
    "    pickle.dump(sanitized_4, f)"
   ]
  },
  {
   "cell_type": "code",
   "execution_count": null,
   "metadata": {},
   "outputs": [],
   "source": [
    "sanitized_5 = []\n",
    "\n",
    "for molecule in array_5:\n",
    "    if molecule is not None:\n",
    "        Chem.SanitizeMol(molecule) # sanitize\n",
    "        smiles_no_stereo = Chem.MolToSmiles(molecule, isomericSmiles=False, canonical=True)        \n",
    "        mol_no_stereo = Chem.MolFromSmiles(smiles_no_stereo)\n",
    "        sanitized_5.append(mol_no_stereo)\n",
    "\n",
    "with open('sanitized_5.pkl', 'wb') as f:\n",
    "    pickle.dump(sanitized_5, f)"
   ]
  },
  {
   "cell_type": "code",
   "execution_count": null,
   "metadata": {},
   "outputs": [],
   "source": [
    "sanitized_6 = []\n",
    "\n",
    "for molecule in array_6:\n",
    "    if molecule is not None:\n",
    "        Chem.SanitizeMol(molecule) # sanitize\n",
    "        smiles_no_stereo = Chem.MolToSmiles(molecule, isomericSmiles=False, canonical=True)        \n",
    "        mol_no_stereo = Chem.MolFromSmiles(smiles_no_stereo)\n",
    "        sanitized_6.append(mol_no_stereo)\n",
    "\n",
    "with open('sanitized_6.pkl', 'wb') as f:\n",
    "    pickle.dump(sanitized_6, f)"
   ]
  },
  {
   "cell_type": "code",
   "execution_count": null,
   "metadata": {},
   "outputs": [],
   "source": [
    "sanitized_7 = []\n",
    "\n",
    "for molecule in array_7:\n",
    "    if molecule is not None:\n",
    "        Chem.SanitizeMol(molecule) # sanitize\n",
    "        smiles_no_stereo = Chem.MolToSmiles(molecule, isomericSmiles=False, canonical=True)        \n",
    "        mol_no_stereo = Chem.MolFromSmiles(smiles_no_stereo)\n",
    "        sanitized_7.append(mol_no_stereo)\n",
    "\n",
    "with open('sanitized_7.pkl', 'wb') as f:\n",
    "    pickle.dump(sanitized_7, f)"
   ]
  },
  {
   "cell_type": "code",
   "execution_count": null,
   "metadata": {},
   "outputs": [],
   "source": [
    "sanitized_8 = []\n",
    "\n",
    "for molecule in array_8:\n",
    "    if molecule is not None:\n",
    "        Chem.SanitizeMol(molecule) # sanitize\n",
    "        smiles_no_stereo = Chem.MolToSmiles(molecule, isomericSmiles=False, canonical=True)        \n",
    "        mol_no_stereo = Chem.MolFromSmiles(smiles_no_stereo)\n",
    "        sanitized_8.append(mol_no_stereo)\n",
    "\n",
    "with open('sanitized_8.pkl', 'wb') as f:\n",
    "    pickle.dump(sanitized_8, f)"
   ]
  },
  {
   "cell_type": "code",
   "execution_count": null,
   "metadata": {},
   "outputs": [],
   "source": [
    "sanitized_9 = []\n",
    "\n",
    "for molecule in array_9:\n",
    "    if molecule is not None:\n",
    "        Chem.SanitizeMol(molecule) # sanitize\n",
    "        smiles_no_stereo = Chem.MolToSmiles(molecule, isomericSmiles=False, canonical=True)        \n",
    "        mol_no_stereo = Chem.MolFromSmiles(smiles_no_stereo)\n",
    "        sanitized_9.append(mol_no_stereo)\n",
    "\n",
    "with open('sanitized_9.pkl', 'wb') as f:\n",
    "    pickle.dump(sanitized_9, f)"
   ]
  },
  {
   "cell_type": "code",
   "execution_count": null,
   "metadata": {},
   "outputs": [],
   "source": [
    "sanitized_10 = []\n",
    "\n",
    "for molecule in array_10:\n",
    "    if molecule is not None:\n",
    "        Chem.SanitizeMol(molecule) # sanitize\n",
    "        smiles_no_stereo = Chem.MolToSmiles(molecule, isomericSmiles=False, canonical=True)        \n",
    "        mol_no_stereo = Chem.MolFromSmiles(smiles_no_stereo)\n",
    "        sanitized_10.append(mol_no_stereo)\n",
    "\n",
    "with open('sanitized_10.pkl', 'wb') as f:\n",
    "    pickle.dump(sanitized_10, f)"
   ]
  },
  {
   "cell_type": "code",
   "execution_count": null,
   "metadata": {},
   "outputs": [],
   "source": [
    "sanitized_11 = []\n",
    "\n",
    "for molecule in array_11:\n",
    "    if molecule is not None:\n",
    "        Chem.SanitizeMol(molecule) # sanitize\n",
    "        smiles_no_stereo = Chem.MolToSmiles(molecule, isomericSmiles=False, canonical=True)        \n",
    "        mol_no_stereo = Chem.MolFromSmiles(smiles_no_stereo)\n",
    "        sanitized_11.append(mol_no_stereo)\n",
    "\n",
    "with open('sanitized_11.pkl', 'wb') as f:\n",
    "    pickle.dump(sanitized_11, f)"
   ]
  },
  {
   "cell_type": "code",
   "execution_count": null,
   "metadata": {},
   "outputs": [],
   "source": [
    "sanitized_12 = []\n",
    "\n",
    "for molecule in array_12:\n",
    "    if molecule is not None:\n",
    "        Chem.SanitizeMol(molecule) # sanitize\n",
    "        smiles_no_stereo = Chem.MolToSmiles(molecule, isomericSmiles=False, canonical=True)        \n",
    "        mol_no_stereo = Chem.MolFromSmiles(smiles_no_stereo)\n",
    "        sanitized_12.append(mol_no_stereo)\n",
    "\n",
    "with open('sanitized_12.pkl', 'wb') as f:\n",
    "    pickle.dump(sanitized_12, f)"
   ]
  },
  {
   "cell_type": "code",
   "execution_count": null,
   "metadata": {},
   "outputs": [],
   "source": [
    "sanitized_13 = []\n",
    "\n",
    "for molecule in array_13:\n",
    "    if molecule is not None:\n",
    "        Chem.SanitizeMol(molecule) # sanitize\n",
    "        smiles_no_stereo = Chem.MolToSmiles(molecule, isomericSmiles=False, canonical=True)        \n",
    "        mol_no_stereo = Chem.MolFromSmiles(smiles_no_stereo)\n",
    "        sanitized_13.append(mol_no_stereo)\n",
    "\n",
    "with open('sanitized_13.pkl', 'wb') as f:\n",
    "    pickle.dump(sanitized_13, f)"
   ]
  },
  {
   "cell_type": "code",
   "execution_count": null,
   "metadata": {},
   "outputs": [],
   "source": [
    "with open('sanitized_1.pkl', 'rb') as f:\n",
    "    sanitized_1 = pickle.load(f)"
   ]
  },
  {
   "cell_type": "code",
   "execution_count": null,
   "metadata": {},
   "outputs": [],
   "source": [
    "with open('sanitized_2.pkl', 'rb') as f:\n",
    "    sanitized_2 = pickle.load(f)"
   ]
  },
  {
   "cell_type": "code",
   "execution_count": null,
   "metadata": {},
   "outputs": [],
   "source": [
    "with open('sanitized_3.pkl', 'rb') as f:\n",
    "    sanitized_3 = pickle.load(f)"
   ]
  },
  {
   "cell_type": "code",
   "execution_count": null,
   "metadata": {},
   "outputs": [],
   "source": [
    "with open('sanitized_4.pkl', 'rb') as f:\n",
    "    sanitized_4 = pickle.load(f)"
   ]
  },
  {
   "cell_type": "code",
   "execution_count": null,
   "metadata": {},
   "outputs": [],
   "source": [
    "with open('sanitized_5.pkl', 'rb') as f:\n",
    "    sanitized_5 = pickle.load(f)"
   ]
  },
  {
   "cell_type": "code",
   "execution_count": null,
   "metadata": {},
   "outputs": [],
   "source": [
    "with open('sanitized_6.pkl', 'rb') as f:\n",
    "    sanitized_6 = pickle.load(f)"
   ]
  },
  {
   "cell_type": "code",
   "execution_count": null,
   "metadata": {},
   "outputs": [],
   "source": [
    "with open('sanitized_7.pkl', 'rb') as f:\n",
    "    sanitized_7 = pickle.load(f)"
   ]
  },
  {
   "cell_type": "code",
   "execution_count": null,
   "metadata": {},
   "outputs": [],
   "source": [
    "with open('sanitized_8.pkl', 'rb') as f:\n",
    "    sanitized_8 = pickle.load(f)"
   ]
  },
  {
   "cell_type": "code",
   "execution_count": null,
   "metadata": {},
   "outputs": [],
   "source": [
    "with open('sanitized_9.pkl', 'rb') as f:\n",
    "    sanitized_9 = pickle.load(f)"
   ]
  },
  {
   "cell_type": "code",
   "execution_count": null,
   "metadata": {},
   "outputs": [],
   "source": [
    "with open('sanitized_10.pkl', 'rb') as f:\n",
    "    sanitized_10 = pickle.load(f)"
   ]
  },
  {
   "cell_type": "code",
   "execution_count": null,
   "metadata": {},
   "outputs": [],
   "source": [
    "with open('sanitized_11.pkl', 'rb') as f:\n",
    "    sanitized_11 = pickle.load(f)"
   ]
  },
  {
   "cell_type": "code",
   "execution_count": null,
   "metadata": {},
   "outputs": [],
   "source": [
    "with open('sanitized_12.pkl', 'rb') as f:\n",
    "    sanitized_12 = pickle.load(f)"
   ]
  },
  {
   "cell_type": "code",
   "execution_count": null,
   "metadata": {},
   "outputs": [],
   "source": [
    "with open('sanitized_13.pkl', 'rb') as f:\n",
    "    sanitized_13 = pickle.load(f)"
   ]
  },
  {
   "cell_type": "code",
   "execution_count": null,
   "metadata": {},
   "outputs": [],
   "source": [
    "#stitching it all back together\n",
    "\n",
    "sanitized = sanitized_1 + sanitized_2 + sanitized_3 + sanitized_4 + sanitized_5 + sanitized_6 + sanitized_7 + sanitized_8 + sanitized_9 + sanitized_10 + sanitized_11 + sanitized_12 + sanitized_13"
   ]
  },
  {
   "cell_type": "code",
   "execution_count": null,
   "metadata": {},
   "outputs": [],
   "source": [
    "sanitized_noncanon_1 = []\n",
    "\n",
    "for molecule in array_1:\n",
    "    if molecule is not None:\n",
    "        Chem.SanitizeMol(molecule) # sanitize\n",
    "        smiles_no_stereo = Chem.MolToSmiles(molecule, isomericSmiles=False, canonical=False)        \n",
    "        mol_no_stereo = Chem.MolFromSmiles(smiles_no_stereo)\n",
    "        sanitized_noncanon_1.append(mol_no_stereo)\n",
    "\n",
    "with open('sanitized_noncanon_1.pkl', 'wb') as f:\n",
    "    pickle.dump(sanitized_noncanon_1, f)"
   ]
  },
  {
   "cell_type": "code",
   "execution_count": null,
   "metadata": {},
   "outputs": [],
   "source": [
    "sanitized_noncanon_2 = []\n",
    "\n",
    "for molecule in array_2:\n",
    "    if molecule is not None:\n",
    "        Chem.SanitizeMol(molecule) # sanitize\n",
    "        smiles_no_stereo = Chem.MolToSmiles(molecule, isomericSmiles=False, canonical=False)        \n",
    "        mol_no_stereo = Chem.MolFromSmiles(smiles_no_stereo)\n",
    "        sanitized_noncanon_2.append(mol_no_stereo)\n",
    "\n",
    "with open('sanitized_noncanon_2.pkl', 'wb') as f:\n",
    "    pickle.dump(sanitized_noncanon_2, f)"
   ]
  },
  {
   "cell_type": "code",
   "execution_count": null,
   "metadata": {},
   "outputs": [],
   "source": [
    "sanitized_noncanon_3 = []\n",
    "\n",
    "for molecule in array_3:\n",
    "    if molecule is not None:\n",
    "        Chem.SanitizeMol(molecule) # sanitize\n",
    "        smiles_no_stereo = Chem.MolToSmiles(molecule, isomericSmiles=False, canonical=False)        \n",
    "        mol_no_stereo = Chem.MolFromSmiles(smiles_no_stereo)\n",
    "        sanitized_noncanon_3.append(mol_no_stereo)\n",
    "\n",
    "with open('sanitized_noncanon_3.pkl', 'wb') as f:\n",
    "    pickle.dump(sanitized_noncanon_3, f)"
   ]
  },
  {
   "cell_type": "code",
   "execution_count": null,
   "metadata": {},
   "outputs": [],
   "source": [
    "sanitized_noncanon_4 = []\n",
    "\n",
    "for molecule in array_4:\n",
    "    if molecule is not None:\n",
    "        Chem.SanitizeMol(molecule) # sanitize\n",
    "        smiles_no_stereo = Chem.MolToSmiles(molecule, isomericSmiles=False, canonical=False)        \n",
    "        mol_no_stereo = Chem.MolFromSmiles(smiles_no_stereo)\n",
    "        sanitized_noncanon_4.append(mol_no_stereo)\n",
    "\n",
    "with open('sanitized_noncanon_4.pkl', 'wb') as f:\n",
    "    pickle.dump(sanitized_noncanon_4, f)"
   ]
  },
  {
   "cell_type": "code",
   "execution_count": null,
   "metadata": {},
   "outputs": [],
   "source": [
    "sanitized_noncanon_5 = []\n",
    "\n",
    "for molecule in array_5:\n",
    "    if molecule is not None:\n",
    "        Chem.SanitizeMol(molecule) # sanitize\n",
    "        smiles_no_stereo = Chem.MolToSmiles(molecule, isomericSmiles=False, canonical=False)        \n",
    "        mol_no_stereo = Chem.MolFromSmiles(smiles_no_stereo)\n",
    "        sanitized_noncanon_5.append(mol_no_stereo)\n",
    "\n",
    "with open('sanitized_noncanon_5.pkl', 'wb') as f:\n",
    "    pickle.dump(sanitized_noncanon_5, f)"
   ]
  },
  {
   "cell_type": "code",
   "execution_count": null,
   "metadata": {},
   "outputs": [],
   "source": [
    "sanitized_noncanon_6 = []\n",
    "\n",
    "for molecule in array_6:\n",
    "    if molecule is not None:\n",
    "        Chem.SanitizeMol(molecule) # sanitize\n",
    "        smiles_no_stereo = Chem.MolToSmiles(molecule, isomericSmiles=False, canonical=False)        \n",
    "        mol_no_stereo = Chem.MolFromSmiles(smiles_no_stereo)\n",
    "        sanitized_noncanon_6.append(mol_no_stereo)\n",
    "\n",
    "with open('sanitized_noncanon_6.pkl', 'wb') as f:\n",
    "    pickle.dump(sanitized_noncanon_6, f)"
   ]
  },
  {
   "cell_type": "code",
   "execution_count": null,
   "metadata": {},
   "outputs": [],
   "source": [
    "sanitized_noncanon_7 = []\n",
    "\n",
    "for molecule in array_7:\n",
    "    if molecule is not None:\n",
    "        Chem.SanitizeMol(molecule) # sanitize\n",
    "        smiles_no_stereo = Chem.MolToSmiles(molecule, isomericSmiles=False, canonical=False)        \n",
    "        mol_no_stereo = Chem.MolFromSmiles(smiles_no_stereo)\n",
    "        sanitized_noncanon_7.append(mol_no_stereo)\n",
    "\n",
    "with open('sanitized_noncanon_7.pkl', 'wb') as f:\n",
    "    pickle.dump(sanitized_noncanon_7, f)"
   ]
  },
  {
   "cell_type": "code",
   "execution_count": null,
   "metadata": {},
   "outputs": [],
   "source": [
    "sanitized_noncanon_8 = []\n",
    "\n",
    "for molecule in array_8:\n",
    "    if molecule is not None:\n",
    "        Chem.SanitizeMol(molecule) # sanitize\n",
    "        smiles_no_stereo = Chem.MolToSmiles(molecule, isomericSmiles=False, canonical=False)        \n",
    "        mol_no_stereo = Chem.MolFromSmiles(smiles_no_stereo)\n",
    "        sanitized_noncanon_8.append(mol_no_stereo)\n",
    "\n",
    "with open('sanitized_noncanon_8.pkl', 'wb') as f:\n",
    "    pickle.dump(sanitized_noncanon_8, f)"
   ]
  },
  {
   "cell_type": "code",
   "execution_count": null,
   "metadata": {},
   "outputs": [],
   "source": [
    "sanitized_noncanon_9 = []\n",
    "\n",
    "for molecule in array_9:\n",
    "    if molecule is not None:\n",
    "        Chem.SanitizeMol(molecule) # sanitize\n",
    "        smiles_no_stereo = Chem.MolToSmiles(molecule, isomericSmiles=False, canonical=False)        \n",
    "        mol_no_stereo = Chem.MolFromSmiles(smiles_no_stereo)\n",
    "        sanitized_noncanon_9.append(mol_no_stereo)\n",
    "\n",
    "with open('sanitized_noncanon_9.pkl', 'wb') as f:\n",
    "    pickle.dump(sanitized_noncanon_9, f)"
   ]
  },
  {
   "cell_type": "code",
   "execution_count": null,
   "metadata": {},
   "outputs": [],
   "source": [
    "sanitized_noncanon_10 = []\n",
    "\n",
    "for molecule in array_10:\n",
    "    if molecule is not None:\n",
    "        Chem.SanitizeMol(molecule) # sanitize\n",
    "        smiles_no_stereo = Chem.MolToSmiles(molecule, isomericSmiles=False, canonical=False)        \n",
    "        mol_no_stereo = Chem.MolFromSmiles(smiles_no_stereo)\n",
    "        sanitized_noncanon_10.append(mol_no_stereo)\n",
    "\n",
    "with open('sanitized_noncanon_10.pkl', 'wb') as f:\n",
    "    pickle.dump(sanitized_noncanon_10, f)"
   ]
  },
  {
   "cell_type": "code",
   "execution_count": null,
   "metadata": {},
   "outputs": [],
   "source": [
    "sanitized_noncanon_11 = []\n",
    "\n",
    "for molecule in array_11:\n",
    "    if molecule is not None:\n",
    "        Chem.SanitizeMol(molecule) # sanitize\n",
    "        smiles_no_stereo = Chem.MolToSmiles(molecule, isomericSmiles=False, canonical=False)        \n",
    "        mol_no_stereo = Chem.MolFromSmiles(smiles_no_stereo)\n",
    "        sanitized_noncanon_11.append(mol_no_stereo)\n",
    "\n",
    "with open('sanitized_noncanon_11.pkl', 'wb') as f:\n",
    "    pickle.dump(sanitized_noncanon_11, f)"
   ]
  },
  {
   "cell_type": "code",
   "execution_count": null,
   "metadata": {},
   "outputs": [],
   "source": [
    "sanitized_noncanon_12 = []\n",
    "\n",
    "for molecule in array_12:\n",
    "    if molecule is not None:\n",
    "        Chem.SanitizeMol(molecule) # sanitize\n",
    "        smiles_no_stereo = Chem.MolToSmiles(molecule, isomericSmiles=False, canonical=False)        \n",
    "        mol_no_stereo = Chem.MolFromSmiles(smiles_no_stereo)\n",
    "        sanitized_noncanon_12.append(mol_no_stereo)\n",
    "\n",
    "with open('sanitized_noncanon_12.pkl', 'wb') as f:\n",
    "    pickle.dump(sanitized_noncanon_12, f)"
   ]
  },
  {
   "cell_type": "code",
   "execution_count": null,
   "metadata": {},
   "outputs": [],
   "source": [
    "sanitized_noncanon_13 = []\n",
    "\n",
    "for molecule in array_13:\n",
    "    if molecule is not None:\n",
    "        Chem.SanitizeMol(molecule) # sanitize\n",
    "        smiles_no_stereo = Chem.MolToSmiles(molecule, isomericSmiles=False, canonical=False)        \n",
    "        mol_no_stereo = Chem.MolFromSmiles(smiles_no_stereo)\n",
    "        sanitized_noncanon_13.append(mol_no_stereo)\n",
    "\n",
    "with open('sanitized_noncanon_13.pkl', 'wb') as f:\n",
    "    pickle.dump(sanitized_noncanon_13, f)"
   ]
  },
  {
   "cell_type": "code",
   "execution_count": null,
   "metadata": {},
   "outputs": [],
   "source": [
    "with open('sanitized_noncanon_1.pkl', 'rb') as f:\n",
    "    sanitized_noncanon_1 = pickle.load(f)"
   ]
  },
  {
   "cell_type": "code",
   "execution_count": null,
   "metadata": {},
   "outputs": [],
   "source": [
    "with open('sanitized_noncanon_2.pkl', 'rb') as f:\n",
    "    sanitized_noncanon_2 = pickle.load(f)"
   ]
  },
  {
   "cell_type": "code",
   "execution_count": null,
   "metadata": {},
   "outputs": [],
   "source": [
    "with open('sanitized_noncanon_3.pkl', 'rb') as f:\n",
    "    sanitized_noncanon_3 = pickle.load(f)"
   ]
  },
  {
   "cell_type": "code",
   "execution_count": null,
   "metadata": {},
   "outputs": [],
   "source": [
    "with open('sanitized_noncanon_4.pkl', 'rb') as f:\n",
    "    sanitized_noncanon_4 = pickle.load(f)"
   ]
  },
  {
   "cell_type": "code",
   "execution_count": null,
   "metadata": {},
   "outputs": [],
   "source": [
    "with open('sanitized_noncanon_5.pkl', 'rb') as f:\n",
    "    sanitized_noncanon_5 = pickle.load(f)"
   ]
  },
  {
   "cell_type": "code",
   "execution_count": null,
   "metadata": {},
   "outputs": [],
   "source": [
    "with open('sanitized_noncanon_6.pkl', 'rb') as f:\n",
    "    sanitized_noncanon_6 = pickle.load(f)"
   ]
  },
  {
   "cell_type": "code",
   "execution_count": null,
   "metadata": {},
   "outputs": [],
   "source": [
    "with open('sanitized_noncanon_7.pkl', 'rb') as f:\n",
    "    sanitized_noncanon_7 = pickle.load(f)"
   ]
  },
  {
   "cell_type": "code",
   "execution_count": null,
   "metadata": {},
   "outputs": [],
   "source": [
    "with open('sanitized_noncanon_8.pkl', 'rb') as f:\n",
    "    sanitized_noncanon_8 = pickle.load(f)"
   ]
  },
  {
   "cell_type": "code",
   "execution_count": null,
   "metadata": {},
   "outputs": [],
   "source": [
    "with open('sanitized_noncanon_9.pkl', 'rb') as f:\n",
    "    sanitized_noncanon_9 = pickle.load(f)"
   ]
  },
  {
   "cell_type": "code",
   "execution_count": null,
   "metadata": {},
   "outputs": [],
   "source": [
    "with open('sanitized_noncanon_10.pkl', 'rb') as f:\n",
    "    sanitized_noncanon_10 = pickle.load(f)"
   ]
  },
  {
   "cell_type": "code",
   "execution_count": null,
   "metadata": {},
   "outputs": [],
   "source": [
    "with open('sanitized_noncanon_11.pkl', 'rb') as f:\n",
    "    sanitized_noncanon_11 = pickle.load(f)"
   ]
  },
  {
   "cell_type": "code",
   "execution_count": null,
   "metadata": {},
   "outputs": [],
   "source": [
    "with open('sanitized_noncanon_12.pkl', 'rb') as f:\n",
    "    sanitized_noncanon_12 = pickle.load(f)"
   ]
  },
  {
   "cell_type": "code",
   "execution_count": null,
   "metadata": {},
   "outputs": [],
   "source": [
    "with open('sanitized_noncanon_13.pkl', 'rb') as f:\n",
    "    sanitized_noncanon_13 = pickle.load(f)"
   ]
  },
  {
   "cell_type": "code",
   "execution_count": null,
   "metadata": {},
   "outputs": [],
   "source": [
    "sanitized_noncanon = sanitized_noncanon_1 + sanitized_noncanon_2 + sanitized_noncanon_3 + sanitized_noncanon_4 + sanitized_noncanon_5 + sanitized_noncanon_6 + sanitized_noncanon_7 + sanitized_noncanon_8 + sanitized_noncanon_9 + sanitized_noncanon_10 + sanitized_noncanon_11 + sanitized_noncanon_12 + sanitized_noncanon_13"
   ]
  },
  {
   "cell_type": "code",
   "execution_count": null,
   "metadata": {},
   "outputs": [],
   "source": [
    "#remove duplicates\n",
    "sanitized = list(set(sanitized))\n",
    "sanitized_noncanon = list(set(sanitized_noncanon))"
   ]
  },
  {
   "cell_type": "code",
   "execution_count": null,
   "metadata": {},
   "outputs": [],
   "source": [
    "#converting back to smiles and saving as new csv (sanitized_smiles)\n",
    "\n",
    "smiles_list = [Chem.MolToSmiles(molecule) for molecule in sanitized]\n",
    "smiles_noncanon_list = [Chem.MolToSmiles(molecule) for molecule in sanitized_noncanon]\n"
   ]
  },
  {
   "cell_type": "code",
   "execution_count": null,
   "metadata": {},
   "outputs": [],
   "source": [
    "df = pd.DataFrame(smiles_list, columns=['SMILES'])\n",
    "df['SMILES_NONCANON'] = smiles_noncanon_list\n",
    "df.to_csv('sanitized_noncanon_smiles.csv', index=False)"
   ]
  }
 ],
 "metadata": {
  "kernelspec": {
   "display_name": "Python 3",
   "language": "python",
   "name": "python3"
  },
  "language_info": {
   "codemirror_mode": {
    "name": "ipython",
    "version": 3
   },
   "file_extension": ".py",
   "mimetype": "text/x-python",
   "name": "python",
   "nbconvert_exporter": "python",
   "pygments_lexer": "ipython3",
   "version": "3.10.14"
  }
 },
 "nbformat": 4,
 "nbformat_minor": 2
}
