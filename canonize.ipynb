{
 "cells": [
  {
   "cell_type": "markdown",
   "metadata": {},
   "source": [
    "## Converting from raw SMILES data to canonized/cleaned data"
   ]
  },
  {
   "cell_type": "code",
   "execution_count": null,
   "metadata": {},
   "outputs": [],
   "source": [
    "#import\n",
    "import pandas as pd\n",
    "from rdkit import Chem"
   ]
  },
  {
   "cell_type": "code",
   "execution_count": null,
   "metadata": {},
   "outputs": [],
   "source": [
    "#read smiles data in\n",
    "smiles_df = pd.read_csv(\"smiles.csv\") \n",
    "smiles_only = smiles_df[\"smiles\"]"
   ]
  },
  {
   "cell_type": "code",
   "execution_count": null,
   "metadata": {},
   "outputs": [
    {
     "name": "stderr",
     "output_type": "stream",
     "text": [
      "[14:07:42] WARNING: not removing hydrogen atom without neighbors\n",
      "[14:07:50] WARNING: not removing hydrogen atom without neighbors\n",
      "[14:07:55] WARNING: not removing hydrogen atom without neighbors\n",
      "[14:08:08] WARNING: not removing hydrogen atom without neighbors\n",
      "[14:08:11] WARNING: not removing hydrogen atom without neighbors\n"
     ]
    }
   ],
   "source": [
    "#create rdkit molecule objects\n",
    "molecules = [Chem.MolFromSmiles(smile) for smile in smiles_only]"
   ]
  },
  {
   "cell_type": "code",
   "execution_count": null,
   "metadata": {},
   "outputs": [],
   "source": [
    "#using pickling because the conversion process is extremely memory-intensive\n",
    "\n",
    "import pickle\n",
    "\n",
    "with open('molecules.pkl', 'rb') as f:\n",
    "    molecules = pickle.load(f)"
   ]
  },
  {
   "cell_type": "code",
   "execution_count": null,
   "metadata": {},
   "outputs": [],
   "source": [
    "#breaking data into multiple arrays\n",
    "\n",
    "array_1 = molecules[0:100000]\n",
    "array_2 = molecules[100000:200000]\n",
    "array_3 = molecules[200000:300000]\n",
    "array_4 = molecules[300000:400000]\n",
    "array_5 = molecules[400000:500000]\n",
    "array_6 = molecules[500000:600000]\n",
    "array_7 = molecules[600000:]"
   ]
  },
  {
   "cell_type": "code",
   "execution_count": 4,
   "metadata": {},
   "outputs": [
    {
     "data": {
      "text/plain": [
       "706862"
      ]
     },
     "execution_count": 4,
     "metadata": {},
     "output_type": "execute_result"
    }
   ],
   "source": [
    "#examining rdkit object\n",
    "\n",
    "len(molecules)\n",
    "#706862 total molecules\n"
   ]
  },
  {
   "cell_type": "code",
   "execution_count": null,
   "metadata": {},
   "outputs": [],
   "source": [
    "#sanitizing each array using RDkit - converting mol to SMILES to mol\n",
    "\n",
    "sanitized_1 = []\n",
    "\n",
    "for molecule in array_1:\n",
    "    if molecule is not None:\n",
    "        Chem.SanitizeMol(molecule) # sanitize\n",
    "        smiles_no_stereo = Chem.MolToSmiles(molecule, isomericSmiles=False, canonical=True)        \n",
    "        mol_no_stereo = Chem.MolFromSmiles(smiles_no_stereo)\n",
    "        sanitized_1.append(mol_no_stereo)\n",
    "\n",
    "with open('sanitized_1.pkl', 'wb') as f:\n",
    "    pickle.dump(sanitized_1, f)"
   ]
  },
  {
   "cell_type": "code",
   "execution_count": 6,
   "metadata": {},
   "outputs": [],
   "source": [
    "sanitized_2 = []\n",
    "\n",
    "for molecule in array_2:\n",
    "    if molecule is not None:\n",
    "        Chem.SanitizeMol(molecule) # sanitize\n",
    "        smiles_no_stereo = Chem.MolToSmiles(molecule, isomericSmiles=False, canonical=True)        \n",
    "        mol_no_stereo = Chem.MolFromSmiles(smiles_no_stereo)\n",
    "        sanitized_2.append(mol_no_stereo)\n",
    "\n",
    "with open('sanitized_2.pkl', 'wb') as f:\n",
    "    pickle.dump(sanitized_2, f)"
   ]
  },
  {
   "cell_type": "code",
   "execution_count": 7,
   "metadata": {},
   "outputs": [],
   "source": [
    "sanitized_3 = []\n",
    "\n",
    "for molecule in array_3:\n",
    "    if molecule is not None:\n",
    "        Chem.SanitizeMol(molecule) # sanitize\n",
    "        smiles_no_stereo = Chem.MolToSmiles(molecule, isomericSmiles=False, canonical=True)        \n",
    "        mol_no_stereo = Chem.MolFromSmiles(smiles_no_stereo)\n",
    "        sanitized_3.append(mol_no_stereo)\n",
    "\n",
    "with open('sanitized_3.pkl', 'wb') as f:\n",
    "    pickle.dump(sanitized_3, f)"
   ]
  },
  {
   "cell_type": "code",
   "execution_count": null,
   "metadata": {},
   "outputs": [],
   "source": [
    "sanitized_4 = []\n",
    "\n",
    "for molecule in array_4:\n",
    "    if molecule is not None:\n",
    "        Chem.SanitizeMol(molecule) # sanitize\n",
    "        smiles_no_stereo = Chem.MolToSmiles(molecule, isomericSmiles=False, canonical=True)        \n",
    "        mol_no_stereo = Chem.MolFromSmiles(smiles_no_stereo)\n",
    "        sanitized_4.append(mol_no_stereo)\n",
    "\n",
    "with open('sanitized_4.pkl', 'wb') as f:\n",
    "    pickle.dump(sanitized_4, f)"
   ]
  },
  {
   "cell_type": "code",
   "execution_count": 4,
   "metadata": {},
   "outputs": [
    {
     "name": "stderr",
     "output_type": "stream",
     "text": [
      "[15:38:48] WARNING: not removing hydrogen atom without neighbors\n",
      "[15:38:56] WARNING: not removing hydrogen atom without neighbors\n"
     ]
    }
   ],
   "source": [
    "sanitized_5 = []\n",
    "\n",
    "for molecule in array_5:\n",
    "    if molecule is not None:\n",
    "        Chem.SanitizeMol(molecule) # sanitize\n",
    "        smiles_no_stereo = Chem.MolToSmiles(molecule, isomericSmiles=False, canonical=True)        \n",
    "        mol_no_stereo = Chem.MolFromSmiles(smiles_no_stereo)\n",
    "        sanitized_5.append(mol_no_stereo)\n",
    "\n",
    "with open('sanitized_5.pkl', 'wb') as f:\n",
    "    pickle.dump(sanitized_5, f)"
   ]
  },
  {
   "cell_type": "code",
   "execution_count": 5,
   "metadata": {},
   "outputs": [
    {
     "name": "stderr",
     "output_type": "stream",
     "text": [
      "[15:39:51] WARNING: not removing hydrogen atom without neighbors\n"
     ]
    }
   ],
   "source": [
    "sanitized_6 = []\n",
    "\n",
    "for molecule in array_6:\n",
    "    if molecule is not None:\n",
    "        Chem.SanitizeMol(molecule) # sanitize\n",
    "        smiles_no_stereo = Chem.MolToSmiles(molecule, isomericSmiles=False, canonical=True)        \n",
    "        mol_no_stereo = Chem.MolFromSmiles(smiles_no_stereo)\n",
    "        sanitized_6.append(mol_no_stereo)\n",
    "\n",
    "with open('sanitized_6.pkl', 'wb') as f:\n",
    "    pickle.dump(sanitized_6, f)"
   ]
  },
  {
   "cell_type": "code",
   "execution_count": 6,
   "metadata": {},
   "outputs": [
    {
     "name": "stderr",
     "output_type": "stream",
     "text": [
      "[15:40:26] WARNING: not removing hydrogen atom without neighbors\n"
     ]
    }
   ],
   "source": [
    "sanitized_7 = []\n",
    "\n",
    "for molecule in array_7:\n",
    "    if molecule is not None:\n",
    "        Chem.SanitizeMol(molecule) # sanitize\n",
    "        smiles_no_stereo = Chem.MolToSmiles(molecule, isomericSmiles=False, canonical=True)        \n",
    "        mol_no_stereo = Chem.MolFromSmiles(smiles_no_stereo)\n",
    "        sanitized_7.append(mol_no_stereo)\n",
    "\n",
    "with open('sanitized_7.pkl', 'wb') as f:\n",
    "    pickle.dump(sanitized_7, f)"
   ]
  },
  {
   "cell_type": "code",
   "execution_count": 4,
   "metadata": {},
   "outputs": [],
   "source": [
    "with open('sanitized_1.pkl', 'rb') as f:\n",
    "    sanitized_1 = pickle.load(f)"
   ]
  },
  {
   "cell_type": "code",
   "execution_count": 5,
   "metadata": {},
   "outputs": [],
   "source": [
    "with open('sanitized_2.pkl', 'rb') as f:\n",
    "    sanitized_2 = pickle.load(f)"
   ]
  },
  {
   "cell_type": "code",
   "execution_count": 6,
   "metadata": {},
   "outputs": [],
   "source": [
    "with open('sanitized_3.pkl', 'rb') as f:\n",
    "    sanitized_3 = pickle.load(f)"
   ]
  },
  {
   "cell_type": "code",
   "execution_count": 7,
   "metadata": {},
   "outputs": [],
   "source": [
    "with open('sanitized_4.pkl', 'rb') as f:\n",
    "    sanitized_4 = pickle.load(f)"
   ]
  },
  {
   "cell_type": "code",
   "execution_count": 8,
   "metadata": {},
   "outputs": [],
   "source": [
    "with open('sanitized_5.pkl', 'rb') as f:\n",
    "    sanitized_5 = pickle.load(f)"
   ]
  },
  {
   "cell_type": "code",
   "execution_count": 9,
   "metadata": {},
   "outputs": [],
   "source": [
    "with open('sanitized_6.pkl', 'rb') as f:\n",
    "    sanitized_6 = pickle.load(f)"
   ]
  },
  {
   "cell_type": "code",
   "execution_count": 10,
   "metadata": {},
   "outputs": [],
   "source": [
    "with open('sanitized_7.pkl', 'rb') as f:\n",
    "    sanitized_7 = pickle.load(f)"
   ]
  },
  {
   "cell_type": "code",
   "execution_count": null,
   "metadata": {},
   "outputs": [],
   "source": [
    "#stitching it all back together\n",
    "\n",
    "sanitized = sanitized_1 + sanitized_2 + sanitized_3 + sanitized_4 + sanitized_5 + sanitized_6 + sanitized_7"
   ]
  },
  {
   "cell_type": "code",
   "execution_count": null,
   "metadata": {},
   "outputs": [],
   "source": [
    "#remove duplicates\n",
    "sanitized = list(set(sanitized))"
   ]
  },
  {
   "cell_type": "code",
   "execution_count": null,
   "metadata": {},
   "outputs": [],
   "source": [
    "#converting back to smiles and saving as new csv (sanitized_smiles)\n",
    "\n",
    "smiles_list = [Chem.MolToSmiles(molecule) for molecule in sanitized]\n"
   ]
  },
  {
   "cell_type": "code",
   "execution_count": 19,
   "metadata": {},
   "outputs": [],
   "source": [
    "df = pd.DataFrame(smiles_list, columns=['SMILES'])\n",
    "df.to_csv('sanitized_smiles.csv', index=False)"
   ]
  }
 ],
 "metadata": {
  "kernelspec": {
   "display_name": "msse-python",
   "language": "python",
   "name": "python3"
  },
  "language_info": {
   "codemirror_mode": {
    "name": "ipython",
    "version": 3
   },
   "file_extension": ".py",
   "mimetype": "text/x-python",
   "name": "python",
   "nbconvert_exporter": "python",
   "pygments_lexer": "ipython3",
   "version": "3.11.8"
  }
 },
 "nbformat": 4,
 "nbformat_minor": 2
}
